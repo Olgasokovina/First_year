{
 "cells": [
  {
   "cell_type": "code",
   "execution_count": 1,
   "metadata": {},
   "outputs": [],
   "source": [
    "import pickle\n",
    "\n",
    "import pandas as pd\n",
    "pd.set_option('display.max_columns', 100)\n",
    "pd.options.mode.copy_on_write = True\n",
    "\n",
    "import csv\n",
    "import time\n",
    "\n",
    "import numpy as np\n",
    "from geopy.geocoders import Nominatim\n",
    "# import unittest\n",
    "from selenium import webdriver\n",
    "from selenium.webdriver.common.by import By\n",
    "from selenium.webdriver.common.keys import Keys\n",
    "# from sklearn.cluster import DBSCAN\n",
    "from sklearn.mixture import GaussianMixture\n",
    "from tqdm.notebook import tqdm as tqdmn"
   ]
  },
  {
   "cell_type": "code",
   "execution_count": 2,
   "metadata": {},
   "outputs": [
    {
     "data": {
      "text/html": [
       "<div>\n",
       "<style scoped>\n",
       "    .dataframe tbody tr th:only-of-type {\n",
       "        vertical-align: middle;\n",
       "    }\n",
       "\n",
       "    .dataframe tbody tr th {\n",
       "        vertical-align: top;\n",
       "    }\n",
       "\n",
       "    .dataframe thead th {\n",
       "        text-align: right;\n",
       "    }\n",
       "</style>\n",
       "<table border=\"1\" class=\"dataframe\">\n",
       "  <thead>\n",
       "    <tr style=\"text-align: right;\">\n",
       "      <th></th>\n",
       "      <th>status</th>\n",
       "      <th>private pool</th>\n",
       "      <th>propertyType</th>\n",
       "      <th>street</th>\n",
       "      <th>baths</th>\n",
       "      <th>homeFacts</th>\n",
       "      <th>fireplace</th>\n",
       "      <th>city</th>\n",
       "      <th>schools</th>\n",
       "      <th>sqft</th>\n",
       "      <th>zipcode</th>\n",
       "      <th>beds</th>\n",
       "      <th>state</th>\n",
       "      <th>stories</th>\n",
       "      <th>PrivatePool</th>\n",
       "      <th>target</th>\n",
       "      <th>city_is_capital</th>\n",
       "      <th>city_is_million</th>\n",
       "      <th>city_is_big</th>\n",
       "      <th>city_is_large</th>\n",
       "      <th>claster</th>\n",
       "      <th>distance_capital</th>\n",
       "      <th>distance_million</th>\n",
       "    </tr>\n",
       "  </thead>\n",
       "  <tbody>\n",
       "    <tr>\n",
       "      <th>0</th>\n",
       "      <td>Active</td>\n",
       "      <td>NaN</td>\n",
       "      <td>Single Family Home</td>\n",
       "      <td>240 Heather Ln</td>\n",
       "      <td>3.5</td>\n",
       "      <td>{'atAGlanceFacts': [{'factValue': '2019', 'fac...</td>\n",
       "      <td>Gas Logs</td>\n",
       "      <td>Southern Pines</td>\n",
       "      <td>[{'rating': ['4', '4', '7', 'NR', '4', '7', 'N...</td>\n",
       "      <td>2900</td>\n",
       "      <td>28387</td>\n",
       "      <td>4</td>\n",
       "      <td>NC</td>\n",
       "      <td>NaN</td>\n",
       "      <td>NaN</td>\n",
       "      <td>418000.0</td>\n",
       "      <td>False</td>\n",
       "      <td>False</td>\n",
       "      <td>False</td>\n",
       "      <td>False</td>\n",
       "      <td>-1.0</td>\n",
       "      <td>100.137884</td>\n",
       "      <td>655.199337</td>\n",
       "    </tr>\n",
       "    <tr>\n",
       "      <th>1</th>\n",
       "      <td>for sale</td>\n",
       "      <td>NaN</td>\n",
       "      <td>single-family home</td>\n",
       "      <td>12911 E Heroy Ave</td>\n",
       "      <td>3 Baths</td>\n",
       "      <td>{'atAGlanceFacts': [{'factValue': '2019', 'fac...</td>\n",
       "      <td>NaN</td>\n",
       "      <td>Spokane Valley</td>\n",
       "      <td>[{'rating': ['4/10', 'None/10', '4/10'], 'data...</td>\n",
       "      <td>1,947 sqft</td>\n",
       "      <td>99216</td>\n",
       "      <td>3 Beds</td>\n",
       "      <td>WA</td>\n",
       "      <td>2.0</td>\n",
       "      <td>NaN</td>\n",
       "      <td>310000.0</td>\n",
       "      <td>False</td>\n",
       "      <td>False</td>\n",
       "      <td>False</td>\n",
       "      <td>True</td>\n",
       "      <td>0.0</td>\n",
       "      <td>436.589228</td>\n",
       "      <td>1519.395159</td>\n",
       "    </tr>\n",
       "    <tr>\n",
       "      <th>2</th>\n",
       "      <td>for sale</td>\n",
       "      <td>NaN</td>\n",
       "      <td>townhouse</td>\n",
       "      <td>1624 S Newkirk St</td>\n",
       "      <td>NaN</td>\n",
       "      <td>{'atAGlanceFacts': [{'factValue': '1920', 'fac...</td>\n",
       "      <td>NaN</td>\n",
       "      <td>Philadelphia</td>\n",
       "      <td>[{'rating': [], 'data': {'Distance': [], 'Grad...</td>\n",
       "      <td>897 sqft</td>\n",
       "      <td>19145</td>\n",
       "      <td>2 Beds</td>\n",
       "      <td>PA</td>\n",
       "      <td>2.0</td>\n",
       "      <td>NaN</td>\n",
       "      <td>209000.0</td>\n",
       "      <td>False</td>\n",
       "      <td>True</td>\n",
       "      <td>False</td>\n",
       "      <td>False</td>\n",
       "      <td>1.0</td>\n",
       "      <td>149.770696</td>\n",
       "      <td>11.871086</td>\n",
       "    </tr>\n",
       "    <tr>\n",
       "      <th>3</th>\n",
       "      <td>Active</td>\n",
       "      <td>NaN</td>\n",
       "      <td>Florida</td>\n",
       "      <td>552 Casanova Ct</td>\n",
       "      <td>NaN</td>\n",
       "      <td>{'atAGlanceFacts': [{'factValue': '2006', 'fac...</td>\n",
       "      <td>NaN</td>\n",
       "      <td>Poinciana</td>\n",
       "      <td>[{'rating': ['3', '3', '1', 'NR'], 'data': {'D...</td>\n",
       "      <td>1,507</td>\n",
       "      <td>34759</td>\n",
       "      <td>NaN</td>\n",
       "      <td>FL</td>\n",
       "      <td>One</td>\n",
       "      <td>NaN</td>\n",
       "      <td>181500.0</td>\n",
       "      <td>False</td>\n",
       "      <td>False</td>\n",
       "      <td>False</td>\n",
       "      <td>False</td>\n",
       "      <td>NaN</td>\n",
       "      <td>NaN</td>\n",
       "      <td>NaN</td>\n",
       "    </tr>\n",
       "    <tr>\n",
       "      <th>4</th>\n",
       "      <td>Active</td>\n",
       "      <td>NaN</td>\n",
       "      <td>NaN</td>\n",
       "      <td>6094 Mingle Dr</td>\n",
       "      <td>NaN</td>\n",
       "      <td>{'atAGlanceFacts': [{'factValue': '1976', 'fac...</td>\n",
       "      <td>NaN</td>\n",
       "      <td>Memphis</td>\n",
       "      <td>[{'rating': ['4', '2', '2'], 'data': {'Distanc...</td>\n",
       "      <td>NaN</td>\n",
       "      <td>38115</td>\n",
       "      <td>NaN</td>\n",
       "      <td>TN</td>\n",
       "      <td>NaN</td>\n",
       "      <td>NaN</td>\n",
       "      <td>68000.0</td>\n",
       "      <td>False</td>\n",
       "      <td>False</td>\n",
       "      <td>True</td>\n",
       "      <td>False</td>\n",
       "      <td>2.0</td>\n",
       "      <td>305.956266</td>\n",
       "      <td>681.212051</td>\n",
       "    </tr>\n",
       "  </tbody>\n",
       "</table>\n",
       "</div>"
      ],
      "text/plain": [
       "     status private pool        propertyType             street    baths  \\\n",
       "0    Active          NaN  Single Family Home     240 Heather Ln      3.5   \n",
       "1  for sale          NaN  single-family home  12911 E Heroy Ave  3 Baths   \n",
       "2  for sale          NaN           townhouse  1624 S Newkirk St      NaN   \n",
       "3    Active          NaN             Florida   552 Casanova Ct       NaN   \n",
       "4    Active          NaN                 NaN    6094 Mingle Dr       NaN   \n",
       "\n",
       "                                           homeFacts fireplace  \\\n",
       "0  {'atAGlanceFacts': [{'factValue': '2019', 'fac...  Gas Logs   \n",
       "1  {'atAGlanceFacts': [{'factValue': '2019', 'fac...       NaN   \n",
       "2  {'atAGlanceFacts': [{'factValue': '1920', 'fac...       NaN   \n",
       "3  {'atAGlanceFacts': [{'factValue': '2006', 'fac...       NaN   \n",
       "4  {'atAGlanceFacts': [{'factValue': '1976', 'fac...       NaN   \n",
       "\n",
       "             city                                            schools  \\\n",
       "0  Southern Pines  [{'rating': ['4', '4', '7', 'NR', '4', '7', 'N...   \n",
       "1  Spokane Valley  [{'rating': ['4/10', 'None/10', '4/10'], 'data...   \n",
       "2    Philadelphia  [{'rating': [], 'data': {'Distance': [], 'Grad...   \n",
       "3       Poinciana  [{'rating': ['3', '3', '1', 'NR'], 'data': {'D...   \n",
       "4         Memphis  [{'rating': ['4', '2', '2'], 'data': {'Distanc...   \n",
       "\n",
       "         sqft zipcode    beds state stories PrivatePool    target  \\\n",
       "0        2900   28387       4    NC     NaN         NaN  418000.0   \n",
       "1  1,947 sqft   99216  3 Beds    WA     2.0         NaN  310000.0   \n",
       "2    897 sqft   19145  2 Beds    PA     2.0         NaN  209000.0   \n",
       "3       1,507   34759     NaN    FL     One         NaN  181500.0   \n",
       "4         NaN   38115     NaN    TN     NaN         NaN   68000.0   \n",
       "\n",
       "   city_is_capital  city_is_million  city_is_big  city_is_large  claster  \\\n",
       "0            False            False        False          False     -1.0   \n",
       "1            False            False        False           True      0.0   \n",
       "2            False             True        False          False      1.0   \n",
       "3            False            False        False          False      NaN   \n",
       "4            False            False         True          False      2.0   \n",
       "\n",
       "   distance_capital  distance_million  \n",
       "0        100.137884        655.199337  \n",
       "1        436.589228       1519.395159  \n",
       "2        149.770696         11.871086  \n",
       "3               NaN               NaN  \n",
       "4        305.956266        681.212051  "
      ]
     },
     "execution_count": 2,
     "metadata": {},
     "output_type": "execute_result"
    }
   ],
   "source": [
    "# # # Производим десериализацию и извлекаем модель из файла формата pkl\n",
    "with open('data/df_1.pkl', 'rb') as pkl_file:\n",
    "    df = pickle.load(pkl_file)\n",
    "\n",
    "# df = pd.read_csv('data/df_1.csv',\n",
    "#                  low_memory=False)\n",
    "df.head()"
   ]
  },
  {
   "cell_type": "code",
   "execution_count": 3,
   "metadata": {},
   "outputs": [
    {
     "name": "stdout",
     "output_type": "stream",
     "text": [
      "<class 'pandas.core.frame.DataFrame'>\n",
      "RangeIndex: 5524 entries, 0 to 5523\n",
      "Data columns (total 3 columns):\n",
      " #   Column   Non-Null Count  Dtype \n",
      "---  ------   --------------  ----- \n",
      " 0   city     5524 non-null   object\n",
      " 1   state    5524 non-null   object\n",
      " 2   zipcode  5524 non-null   object\n",
      "dtypes: object(3)\n",
      "memory usage: 129.6+ KB\n"
     ]
    }
   ],
   "source": [
    "df = df[['city', 'state', 'zipcode']]\n",
    "df = df.replace('',np.NaN)\n",
    "df = df.dropna().drop_duplicates()\n",
    "df = df.reset_index(drop=True)\n",
    "df.info()"
   ]
  },
  {
   "cell_type": "code",
   "execution_count": 4,
   "metadata": {},
   "outputs": [
    {
     "data": {
      "text/plain": [
       "0       Southern Pines NC 28387 USA\n",
       "1       Spokane Valley WA 99216 USA\n",
       "2         Philadelphia PA 19145 USA\n",
       "3            Poinciana FL 34759 USA\n",
       "4              Memphis TN 38115 USA\n",
       "                   ...             \n",
       "5519           Midwood NY 11210 USA\n",
       "5520       Cooper City FL 33026 USA\n",
       "5521        Petersburg FL 33701 USA\n",
       "5522            Canton OH 44704 USA\n",
       "5523            Queens NY 11428 USA\n",
       "Name: Full_Address, Length: 5524, dtype: object"
      ]
     },
     "execution_count": 4,
     "metadata": {},
     "output_type": "execute_result"
    }
   ],
   "source": [
    "df['zipcode'] = df['zipcode'] .astype('str')\n",
    "df['Full_Address'] = df['city'].str.cat( df[['state', 'zipcode']], sep=' ') + ' ' + 'USA'\n",
    "df['Full_Address']"
   ]
  },
  {
   "cell_type": "code",
   "execution_count": 5,
   "metadata": {},
   "outputs": [],
   "source": [
    "df.Full_Address = df.Full_Address.str.replace('/', ' ')"
   ]
  },
  {
   "cell_type": "code",
   "execution_count": 6,
   "metadata": {},
   "outputs": [],
   "source": [
    "df['Url'] = ['https://www.google.com/maps/search/' + i for i in df['Full_Address'] ]"
   ]
  },
  {
   "cell_type": "code",
   "execution_count": 8,
   "metadata": {},
   "outputs": [],
   "source": [
    "Url_With_Coordinates = []\n",
    "\n",
    "option = webdriver.ChromeOptions()\n",
    "prefs = {'profile.default_content_setting_values': {'images':2, 'javascript':2}}\n",
    "option.add_experimental_option('prefs', prefs)\n",
    "\n",
    "driver = webdriver.Chrome(#\"chromedriver.exe\",\n",
    "                          options=option,\n",
    "                           )"
   ]
  },
  {
   "cell_type": "code",
   "execution_count": 9,
   "metadata": {},
   "outputs": [
    {
     "data": {
      "application/vnd.jupyter.widget-view+json": {
       "model_id": "3d453bfb220a4210a6e2e21a86de55cb",
       "version_major": 2,
       "version_minor": 0
      },
      "text/plain": [
       "  0%|          | 0/5524 [00:00<?, ?it/s]"
      ]
     },
     "metadata": {},
     "output_type": "display_data"
    }
   ],
   "source": [
    "for url in tqdmn(df.Url, leave=False):\n",
    "    driver.get(url)\n",
    "    Url_With_Coordinates.append(driver.find_element(By.CSS_SELECTOR,'meta[itemprop=image]').get_attribute('content'))\n",
    "\n",
    "\n",
    "    time.sleep(0.2)\n",
    "\n",
    "\n",
    "driver.close()"
   ]
  },
  {
   "cell_type": "code",
   "execution_count": 10,
   "metadata": {},
   "outputs": [],
   "source": [
    "with open('Url_With_Coordinates.csv', 'w') as file:\n",
    "    wr = csv.writer(file)\n",
    "    wr.writerow(Url_With_Coordinates)"
   ]
  },
  {
   "cell_type": "code",
   "execution_count": 7,
   "metadata": {},
   "outputs": [],
   "source": [
    "with open('Url_With_Coordinates.csv', 'r') as f:\n",
    "    reader = csv.reader(f, delimiter=',')\n",
    "    for i in reader:\n",
    "        Url_With_Coordinates = i\n",
    "        break"
   ]
  },
  {
   "cell_type": "code",
   "execution_count": 8,
   "metadata": {},
   "outputs": [
    {
     "data": {
      "text/plain": [
       "5524"
      ]
     },
     "execution_count": 8,
     "metadata": {},
     "output_type": "execute_result"
    }
   ],
   "source": [
    "len(Url_With_Coordinates)"
   ]
  },
  {
   "cell_type": "code",
   "execution_count": 9,
   "metadata": {},
   "outputs": [
    {
     "data": {
      "text/plain": [
       "['https://maps.google.com/maps/api/staticmap?center=35.162964%2C-79.369696&zoom=12&size=900x900&language=en&sensor=false&client=google-maps-frontend&signature=5JB09i27JV22rGx79ZTfyEmNnc8',\n",
       " 'https://maps.google.com/maps/api/staticmap?center=47.6714505%2C-117.192152&zoom=13&size=900x900&language=en&sensor=false&client=google-maps-frontend&signature=29qQ7NTt8I0gJOgyKbyXwMr0zs0',\n",
       " 'https://maps.google.com/maps/api/staticmap?center=39.91177345%2C-75.1915324&zoom=13&size=900x900&language=en&sensor=false&client=google-maps-frontend&signature=boYtzXLqXKEQvIAqYmhd8V57VpY',\n",
       " 'https://maps.google.com/maps/api/staticmap?center=28.08453%2C-81.4390798&zoom=12&size=900x900&language=en&sensor=false&client=google-maps-frontend&signature=L73_BC7V0dQGCNQ5b4-BpBXArZU',\n",
       " 'https://maps.google.com/maps/api/staticmap?center=35.0595875%2C-89.8678739&zoom=14&size=900x900&language=en&sensor=false&client=google-maps-frontend&signature=ARt-5bTsCDIum8fvxBeI-08tuuM']"
      ]
     },
     "execution_count": 9,
     "metadata": {},
     "output_type": "execute_result"
    }
   ],
   "source": [
    "Url_With_Coordinates[:5]"
   ]
  },
  {
   "cell_type": "code",
   "execution_count": 10,
   "metadata": {},
   "outputs": [],
   "source": [
    "df['Url_With_Coordinates'] = Url_With_Coordinates"
   ]
  },
  {
   "cell_type": "code",
   "execution_count": 11,
   "metadata": {},
   "outputs": [],
   "source": [
    "df = df[df.Url_With_Coordinates.str.contains('&zoom=')]\n",
    "df = df[df.Url_With_Coordinates.str.contains('center=')]"
   ]
  },
  {
   "cell_type": "code",
   "execution_count": 12,
   "metadata": {},
   "outputs": [
    {
     "data": {
      "text/plain": [
       "'https://maps.google.com/maps/api/staticmap?center=35.162964%2C-79.369696&zoom=12&size=900x900&language=en&sensor=false&client=google-maps-frontend&signature=5JB09i27JV22rGx79ZTfyEmNnc8'"
      ]
     },
     "execution_count": 12,
     "metadata": {},
     "output_type": "execute_result"
    }
   ],
   "source": [
    "df['Url_With_Coordinates'][0]"
   ]
  },
  {
   "cell_type": "code",
   "execution_count": 13,
   "metadata": {},
   "outputs": [],
   "source": [
    "df['lat'] = [ url.split('?center=')[1].split('&zoom=')[0].split('%2C')[0] for url in df['Url_With_Coordinates'] ]\n",
    "df['long'] = [url.split('?center=')[1].split('&zoom=')[0].split('%2C')[1] for url in df['Url_With_Coordinates'] ]"
   ]
  },
  {
   "cell_type": "code",
   "execution_count": 14,
   "metadata": {},
   "outputs": [],
   "source": [
    "df = df.drop('Url_With_Coordinates',axis=1)"
   ]
  },
  {
   "cell_type": "code",
   "execution_count": 15,
   "metadata": {},
   "outputs": [],
   "source": [
    "clustering = GaussianMixture(215)\n",
    "df['claster'] = clustering.fit_predict(df[['lat','long']])"
   ]
  },
  {
   "cell_type": "code",
   "execution_count": 16,
   "metadata": {},
   "outputs": [],
   "source": [
    "# сохранение\n",
    "# Производим сериализацию и записываем результат в файл формата pkl\n",
    "with open(r'web\\app\\models\\model_GaussianMixture.pkl', 'wb') as output:\n",
    "    pickle.dump(clustering, output)"
   ]
  },
  {
   "cell_type": "code",
   "execution_count": 21,
   "metadata": {},
   "outputs": [
    {
     "data": {
      "text/html": [
       "<div>\n",
       "<style scoped>\n",
       "    .dataframe tbody tr th:only-of-type {\n",
       "        vertical-align: middle;\n",
       "    }\n",
       "\n",
       "    .dataframe tbody tr th {\n",
       "        vertical-align: top;\n",
       "    }\n",
       "\n",
       "    .dataframe thead th {\n",
       "        text-align: right;\n",
       "    }\n",
       "</style>\n",
       "<table border=\"1\" class=\"dataframe\">\n",
       "  <thead>\n",
       "    <tr style=\"text-align: right;\">\n",
       "      <th></th>\n",
       "      <th>city</th>\n",
       "      <th>state</th>\n",
       "      <th>zipcode</th>\n",
       "      <th>lat</th>\n",
       "      <th>long</th>\n",
       "      <th>claster</th>\n",
       "    </tr>\n",
       "  </thead>\n",
       "  <tbody>\n",
       "    <tr>\n",
       "      <th>0</th>\n",
       "      <td>Southern Pines</td>\n",
       "      <td>NC</td>\n",
       "      <td>28387</td>\n",
       "      <td>35.162964</td>\n",
       "      <td>-79.369696</td>\n",
       "      <td>197</td>\n",
       "    </tr>\n",
       "    <tr>\n",
       "      <th>1</th>\n",
       "      <td>Spokane Valley</td>\n",
       "      <td>WA</td>\n",
       "      <td>99216</td>\n",
       "      <td>47.6714505</td>\n",
       "      <td>-117.192152</td>\n",
       "      <td>29</td>\n",
       "    </tr>\n",
       "    <tr>\n",
       "      <th>2</th>\n",
       "      <td>Philadelphia</td>\n",
       "      <td>PA</td>\n",
       "      <td>19145</td>\n",
       "      <td>39.91177345</td>\n",
       "      <td>-75.1915324</td>\n",
       "      <td>47</td>\n",
       "    </tr>\n",
       "    <tr>\n",
       "      <th>3</th>\n",
       "      <td>Poinciana</td>\n",
       "      <td>FL</td>\n",
       "      <td>34759</td>\n",
       "      <td>28.08453</td>\n",
       "      <td>-81.4390798</td>\n",
       "      <td>67</td>\n",
       "    </tr>\n",
       "    <tr>\n",
       "      <th>4</th>\n",
       "      <td>Memphis</td>\n",
       "      <td>TN</td>\n",
       "      <td>38115</td>\n",
       "      <td>35.0595875</td>\n",
       "      <td>-89.8678739</td>\n",
       "      <td>35</td>\n",
       "    </tr>\n",
       "    <tr>\n",
       "      <th>...</th>\n",
       "      <td>...</td>\n",
       "      <td>...</td>\n",
       "      <td>...</td>\n",
       "      <td>...</td>\n",
       "      <td>...</td>\n",
       "      <td>...</td>\n",
       "    </tr>\n",
       "    <tr>\n",
       "      <th>5519</th>\n",
       "      <td>Midwood</td>\n",
       "      <td>NY</td>\n",
       "      <td>11210</td>\n",
       "      <td>40.6256315</td>\n",
       "      <td>-73.94579</td>\n",
       "      <td>131</td>\n",
       "    </tr>\n",
       "    <tr>\n",
       "      <th>5520</th>\n",
       "      <td>Cooper City</td>\n",
       "      <td>FL</td>\n",
       "      <td>33026</td>\n",
       "      <td>26.02974415</td>\n",
       "      <td>-80.26129795</td>\n",
       "      <td>137</td>\n",
       "    </tr>\n",
       "    <tr>\n",
       "      <th>5521</th>\n",
       "      <td>Petersburg</td>\n",
       "      <td>FL</td>\n",
       "      <td>33701</td>\n",
       "      <td>27.82638305</td>\n",
       "      <td>-82.6974574</td>\n",
       "      <td>55</td>\n",
       "    </tr>\n",
       "    <tr>\n",
       "      <th>5522</th>\n",
       "      <td>Canton</td>\n",
       "      <td>OH</td>\n",
       "      <td>44704</td>\n",
       "      <td>40.7998363</td>\n",
       "      <td>-81.345395</td>\n",
       "      <td>152</td>\n",
       "    </tr>\n",
       "    <tr>\n",
       "      <th>5523</th>\n",
       "      <td>Queens</td>\n",
       "      <td>NY</td>\n",
       "      <td>11428</td>\n",
       "      <td>40.72200105</td>\n",
       "      <td>-73.74290195</td>\n",
       "      <td>8</td>\n",
       "    </tr>\n",
       "  </tbody>\n",
       "</table>\n",
       "<p>5520 rows × 6 columns</p>\n",
       "</div>"
      ],
      "text/plain": [
       "                city state zipcode          lat          long  claster\n",
       "0     Southern Pines    NC   28387    35.162964    -79.369696      197\n",
       "1     Spokane Valley    WA   99216   47.6714505   -117.192152       29\n",
       "2       Philadelphia    PA   19145  39.91177345   -75.1915324       47\n",
       "3          Poinciana    FL   34759     28.08453   -81.4390798       67\n",
       "4            Memphis    TN   38115   35.0595875   -89.8678739       35\n",
       "...              ...   ...     ...          ...           ...      ...\n",
       "5519         Midwood    NY   11210   40.6256315     -73.94579      131\n",
       "5520     Cooper City    FL   33026  26.02974415  -80.26129795      137\n",
       "5521      Petersburg    FL   33701  27.82638305   -82.6974574       55\n",
       "5522          Canton    OH   44704   40.7998363    -81.345395      152\n",
       "5523          Queens    NY   11428  40.72200105  -73.74290195        8\n",
       "\n",
       "[5520 rows x 6 columns]"
      ]
     },
     "execution_count": 21,
     "metadata": {},
     "output_type": "execute_result"
    }
   ],
   "source": [
    "df = df.drop(['Full_Address','Url'],axis=1)\n",
    "df"
   ]
  },
  {
   "cell_type": "code",
   "execution_count": 22,
   "metadata": {},
   "outputs": [],
   "source": [
    "# сохранение\n",
    "# Производим сериализацию и записываем результат в файл формата pkl\n",
    "with open('data/city_center.pkl', 'wb') as output:\n",
    "    pickle.dump(df, output)\n",
    "\n",
    "\n",
    "df.to_csv('data/city_center.csv', index_label=False)"
   ]
  }
 ],
 "metadata": {
  "kernelspec": {
   "display_name": "base",
   "language": "python",
   "name": "python3"
  },
  "language_info": {
   "codemirror_mode": {
    "name": "ipython",
    "version": 3
   },
   "file_extension": ".py",
   "mimetype": "text/x-python",
   "name": "python",
   "nbconvert_exporter": "python",
   "pygments_lexer": "ipython3",
   "version": "3.8.19"
  }
 },
 "nbformat": 4,
 "nbformat_minor": 2
}
