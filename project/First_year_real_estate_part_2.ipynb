{
 "cells": [
  {
   "cell_type": "markdown",
   "metadata": {},
   "source": [
    "<img src=picture\\pic_2.jpg>\n",
    "\n",
    "\n",
    "Powered by DALL·E 3"
   ]
  },
  {
   "cell_type": "code",
   "execution_count": 1,
   "metadata": {},
   "outputs": [],
   "source": [
    "import pickle\n",
    "\n",
    "import category_encoders as ce\n",
    "import numpy as np\n",
    "import optuna\n",
    "import pandas as pd\n",
    "pd.options.mode.copy_on_write = True\n",
    "pd.set_option('display.max_columns', 100)\n",
    "pd.set_option('display.max_rows', 100)\n",
    "\n",
    "import plotly.express as px\n",
    "import tqdm as notebook_tqdm\n",
    "import xgboost as xg\n",
    "from catboost import CatBoostRegressor\n",
    "from lightgbm import LGBMRegressor\n",
    "from sklearn.ensemble import (BaggingRegressor, ExtraTreesRegressor,\n",
    "                              GradientBoostingRegressor,\n",
    "                              HistGradientBoostingRegressor,\n",
    "                              RandomForestRegressor)\n",
    "from sklearn.feature_selection import (RFECV, SelectKBest,\n",
    "                                       mutual_info_regression)\n",
    "from sklearn.linear_model import ARDRegression, Lasso, LinearRegression, Ridge\n",
    "from sklearn.metrics import (mean_absolute_error,\n",
    "                             mean_absolute_percentage_error, r2_score)\n",
    "from sklearn.model_selection import cross_val_score, train_test_split\n",
    "from sklearn.neighbors import KNeighborsRegressor\n",
    "from sklearn.svm import SVR\n",
    "from sklearn.tree import DecisionTreeRegressor\n",
    "\n"
   ]
  },
  {
   "cell_type": "code",
   "execution_count": 2,
   "metadata": {},
   "outputs": [],
   "source": [
    "n_jobs = -1\n",
    "random_state = 42"
   ]
  },
  {
   "cell_type": "code",
   "execution_count": 3,
   "metadata": {},
   "outputs": [
    {
     "data": {
      "text/html": [
       "<div>\n",
       "<style scoped>\n",
       "    .dataframe tbody tr th:only-of-type {\n",
       "        vertical-align: middle;\n",
       "    }\n",
       "\n",
       "    .dataframe tbody tr th {\n",
       "        vertical-align: top;\n",
       "    }\n",
       "\n",
       "    .dataframe thead th {\n",
       "        text-align: right;\n",
       "    }\n",
       "</style>\n",
       "<table border=\"1\" class=\"dataframe\">\n",
       "  <thead>\n",
       "    <tr style=\"text-align: right;\">\n",
       "      <th></th>\n",
       "      <th>baths</th>\n",
       "      <th>sqft</th>\n",
       "      <th>beds</th>\n",
       "      <th>target</th>\n",
       "      <th>city_is_capital</th>\n",
       "      <th>city_is_million</th>\n",
       "      <th>city_is_big</th>\n",
       "      <th>city_is_large</th>\n",
       "      <th>claster</th>\n",
       "      <th>distance_capital</th>\n",
       "      <th>distance_million</th>\n",
       "      <th>firepl</th>\n",
       "      <th>1_level</th>\n",
       "      <th>2_level</th>\n",
       "      <th>3_level</th>\n",
       "      <th>4_level</th>\n",
       "      <th>multi_level</th>\n",
       "      <th>multi_family</th>\n",
       "      <th>condo</th>\n",
       "      <th>Farms/Ranches</th>\n",
       "      <th>Townhouse</th>\n",
       "      <th>Single Family Home</th>\n",
       "      <th>pool</th>\n",
       "      <th>auction</th>\n",
       "      <th>foreclosure</th>\n",
       "      <th>new</th>\n",
       "      <th>school_rating_mean</th>\n",
       "      <th>number_school</th>\n",
       "      <th>school_distance_mean</th>\n",
       "      <th>Year_built</th>\n",
       "      <th>lotsize</th>\n",
       "      <th>Remodeled</th>\n",
       "      <th>forced_air_heating</th>\n",
       "      <th>gas_heating</th>\n",
       "      <th>electric_heating</th>\n",
       "      <th>pump_heating</th>\n",
       "      <th>central_heating</th>\n",
       "      <th>heat_bool</th>\n",
       "      <th>air_conditioner</th>\n",
       "      <th>ceiling_fan</th>\n",
       "      <th>cool_bool</th>\n",
       "      <th>Garage</th>\n",
       "      <th>Carport</th>\n",
       "      <th>Parking_lot</th>\n",
       "      <th>PublicSchoolOverallRanking</th>\n",
       "      <th>HDI (2021)</th>\n",
       "      <th>Crime Rate</th>\n",
       "    </tr>\n",
       "  </thead>\n",
       "  <tbody>\n",
       "    <tr>\n",
       "      <th>0</th>\n",
       "      <td>3.5</td>\n",
       "      <td>2900.0</td>\n",
       "      <td>4.0</td>\n",
       "      <td>418000.0</td>\n",
       "      <td>False</td>\n",
       "      <td>False</td>\n",
       "      <td>False</td>\n",
       "      <td>False</td>\n",
       "      <td>197.0</td>\n",
       "      <td>100.137884</td>\n",
       "      <td>655.199337</td>\n",
       "      <td>True</td>\n",
       "      <td>False</td>\n",
       "      <td>False</td>\n",
       "      <td>False</td>\n",
       "      <td>False</td>\n",
       "      <td>False</td>\n",
       "      <td>False</td>\n",
       "      <td>False</td>\n",
       "      <td>False</td>\n",
       "      <td>False</td>\n",
       "      <td>True</td>\n",
       "      <td>False</td>\n",
       "      <td>False</td>\n",
       "      <td>False</td>\n",
       "      <td>False</td>\n",
       "      <td>5.2</td>\n",
       "      <td>8</td>\n",
       "      <td>5.500000</td>\n",
       "      <td>0.0</td>\n",
       "      <td>2900.0</td>\n",
       "      <td>False</td>\n",
       "      <td>False</td>\n",
       "      <td>False</td>\n",
       "      <td>False</td>\n",
       "      <td>True</td>\n",
       "      <td>True</td>\n",
       "      <td>True</td>\n",
       "      <td>True</td>\n",
       "      <td>False</td>\n",
       "      <td>False</td>\n",
       "      <td>False</td>\n",
       "      <td>False</td>\n",
       "      <td>False</td>\n",
       "      <td>43.0</td>\n",
       "      <td>0.907</td>\n",
       "      <td>4.872</td>\n",
       "    </tr>\n",
       "    <tr>\n",
       "      <th>1</th>\n",
       "      <td>3.0</td>\n",
       "      <td>1947.0</td>\n",
       "      <td>3.0</td>\n",
       "      <td>310000.0</td>\n",
       "      <td>False</td>\n",
       "      <td>False</td>\n",
       "      <td>False</td>\n",
       "      <td>True</td>\n",
       "      <td>29.0</td>\n",
       "      <td>436.589228</td>\n",
       "      <td>1519.395159</td>\n",
       "      <td>False</td>\n",
       "      <td>False</td>\n",
       "      <td>False</td>\n",
       "      <td>False</td>\n",
       "      <td>False</td>\n",
       "      <td>False</td>\n",
       "      <td>False</td>\n",
       "      <td>False</td>\n",
       "      <td>False</td>\n",
       "      <td>False</td>\n",
       "      <td>True</td>\n",
       "      <td>False</td>\n",
       "      <td>False</td>\n",
       "      <td>False</td>\n",
       "      <td>False</td>\n",
       "      <td>4.0</td>\n",
       "      <td>3</td>\n",
       "      <td>1.299805</td>\n",
       "      <td>0.0</td>\n",
       "      <td>1947.0</td>\n",
       "      <td>False</td>\n",
       "      <td>False</td>\n",
       "      <td>False</td>\n",
       "      <td>False</td>\n",
       "      <td>False</td>\n",
       "      <td>False</td>\n",
       "      <td>False</td>\n",
       "      <td>False</td>\n",
       "      <td>False</td>\n",
       "      <td>False</td>\n",
       "      <td>False</td>\n",
       "      <td>False</td>\n",
       "      <td>False</td>\n",
       "      <td>13.0</td>\n",
       "      <td>0.940</td>\n",
       "      <td>5.759</td>\n",
       "    </tr>\n",
       "    <tr>\n",
       "      <th>2</th>\n",
       "      <td>NaN</td>\n",
       "      <td>897.0</td>\n",
       "      <td>2.0</td>\n",
       "      <td>209000.0</td>\n",
       "      <td>False</td>\n",
       "      <td>True</td>\n",
       "      <td>False</td>\n",
       "      <td>False</td>\n",
       "      <td>47.0</td>\n",
       "      <td>149.770696</td>\n",
       "      <td>11.871086</td>\n",
       "      <td>False</td>\n",
       "      <td>False</td>\n",
       "      <td>False</td>\n",
       "      <td>False</td>\n",
       "      <td>False</td>\n",
       "      <td>False</td>\n",
       "      <td>False</td>\n",
       "      <td>False</td>\n",
       "      <td>False</td>\n",
       "      <td>True</td>\n",
       "      <td>True</td>\n",
       "      <td>False</td>\n",
       "      <td>False</td>\n",
       "      <td>False</td>\n",
       "      <td>False</td>\n",
       "      <td>NaN</td>\n",
       "      <td>0</td>\n",
       "      <td>NaN</td>\n",
       "      <td>99.0</td>\n",
       "      <td>897.0</td>\n",
       "      <td>False</td>\n",
       "      <td>True</td>\n",
       "      <td>False</td>\n",
       "      <td>False</td>\n",
       "      <td>False</td>\n",
       "      <td>True</td>\n",
       "      <td>True</td>\n",
       "      <td>False</td>\n",
       "      <td>False</td>\n",
       "      <td>True</td>\n",
       "      <td>False</td>\n",
       "      <td>False</td>\n",
       "      <td>False</td>\n",
       "      <td>9.0</td>\n",
       "      <td>0.923</td>\n",
       "      <td>3.678</td>\n",
       "    </tr>\n",
       "    <tr>\n",
       "      <th>3</th>\n",
       "      <td>NaN</td>\n",
       "      <td>1507.0</td>\n",
       "      <td>NaN</td>\n",
       "      <td>181500.0</td>\n",
       "      <td>False</td>\n",
       "      <td>False</td>\n",
       "      <td>False</td>\n",
       "      <td>False</td>\n",
       "      <td>67.0</td>\n",
       "      <td>380.395709</td>\n",
       "      <td>1373.702768</td>\n",
       "      <td>False</td>\n",
       "      <td>True</td>\n",
       "      <td>False</td>\n",
       "      <td>False</td>\n",
       "      <td>False</td>\n",
       "      <td>False</td>\n",
       "      <td>False</td>\n",
       "      <td>False</td>\n",
       "      <td>False</td>\n",
       "      <td>False</td>\n",
       "      <td>False</td>\n",
       "      <td>False</td>\n",
       "      <td>False</td>\n",
       "      <td>False</td>\n",
       "      <td>False</td>\n",
       "      <td>2.3</td>\n",
       "      <td>4</td>\n",
       "      <td>3.800781</td>\n",
       "      <td>13.0</td>\n",
       "      <td>1507.0</td>\n",
       "      <td>True</td>\n",
       "      <td>False</td>\n",
       "      <td>False</td>\n",
       "      <td>True</td>\n",
       "      <td>True</td>\n",
       "      <td>True</td>\n",
       "      <td>True</td>\n",
       "      <td>True</td>\n",
       "      <td>False</td>\n",
       "      <td>True</td>\n",
       "      <td>False</td>\n",
       "      <td>False</td>\n",
       "      <td>False</td>\n",
       "      <td>42.0</td>\n",
       "      <td>0.911</td>\n",
       "      <td>3.922</td>\n",
       "    </tr>\n",
       "    <tr>\n",
       "      <th>4</th>\n",
       "      <td>2.0</td>\n",
       "      <td>3588.0</td>\n",
       "      <td>3.0</td>\n",
       "      <td>244900.0</td>\n",
       "      <td>False</td>\n",
       "      <td>False</td>\n",
       "      <td>False</td>\n",
       "      <td>False</td>\n",
       "      <td>31.0</td>\n",
       "      <td>178.458605</td>\n",
       "      <td>472.139498</td>\n",
       "      <td>False</td>\n",
       "      <td>False</td>\n",
       "      <td>False</td>\n",
       "      <td>False</td>\n",
       "      <td>False</td>\n",
       "      <td>False</td>\n",
       "      <td>False</td>\n",
       "      <td>False</td>\n",
       "      <td>False</td>\n",
       "      <td>False</td>\n",
       "      <td>True</td>\n",
       "      <td>False</td>\n",
       "      <td>False</td>\n",
       "      <td>False</td>\n",
       "      <td>False</td>\n",
       "      <td>3.8</td>\n",
       "      <td>6</td>\n",
       "      <td>6.398438</td>\n",
       "      <td>49.0</td>\n",
       "      <td>3588.0</td>\n",
       "      <td>False</td>\n",
       "      <td>True</td>\n",
       "      <td>False</td>\n",
       "      <td>False</td>\n",
       "      <td>False</td>\n",
       "      <td>True</td>\n",
       "      <td>True</td>\n",
       "      <td>False</td>\n",
       "      <td>False</td>\n",
       "      <td>True</td>\n",
       "      <td>False</td>\n",
       "      <td>False</td>\n",
       "      <td>False</td>\n",
       "      <td>16.0</td>\n",
       "      <td>0.930</td>\n",
       "      <td>3.700</td>\n",
       "    </tr>\n",
       "  </tbody>\n",
       "</table>\n",
       "</div>"
      ],
      "text/plain": [
       "   baths    sqft  beds    target  city_is_capital  city_is_million  \\\n",
       "0    3.5  2900.0   4.0  418000.0            False            False   \n",
       "1    3.0  1947.0   3.0  310000.0            False            False   \n",
       "2    NaN   897.0   2.0  209000.0            False             True   \n",
       "3    NaN  1507.0   NaN  181500.0            False            False   \n",
       "4    2.0  3588.0   3.0  244900.0            False            False   \n",
       "\n",
       "   city_is_big  city_is_large  claster  distance_capital  distance_million  \\\n",
       "0        False          False    197.0        100.137884        655.199337   \n",
       "1        False           True     29.0        436.589228       1519.395159   \n",
       "2        False          False     47.0        149.770696         11.871086   \n",
       "3        False          False     67.0        380.395709       1373.702768   \n",
       "4        False          False     31.0        178.458605        472.139498   \n",
       "\n",
       "   firepl  1_level  2_level  3_level  4_level  multi_level  multi_family  \\\n",
       "0    True    False    False    False    False        False         False   \n",
       "1   False    False    False    False    False        False         False   \n",
       "2   False    False    False    False    False        False         False   \n",
       "3   False     True    False    False    False        False         False   \n",
       "4   False    False    False    False    False        False         False   \n",
       "\n",
       "   condo  Farms/Ranches  Townhouse  Single Family Home   pool  auction  \\\n",
       "0  False          False      False                True  False    False   \n",
       "1  False          False      False                True  False    False   \n",
       "2  False          False       True                True  False    False   \n",
       "3  False          False      False               False  False    False   \n",
       "4  False          False      False                True  False    False   \n",
       "\n",
       "   foreclosure    new  school_rating_mean  number_school  \\\n",
       "0        False  False                 5.2              8   \n",
       "1        False  False                 4.0              3   \n",
       "2        False  False                 NaN              0   \n",
       "3        False  False                 2.3              4   \n",
       "4        False  False                 3.8              6   \n",
       "\n",
       "   school_distance_mean  Year_built  lotsize  Remodeled  forced_air_heating  \\\n",
       "0              5.500000         0.0   2900.0      False               False   \n",
       "1              1.299805         0.0   1947.0      False               False   \n",
       "2                   NaN        99.0    897.0      False                True   \n",
       "3              3.800781        13.0   1507.0       True               False   \n",
       "4              6.398438        49.0   3588.0      False                True   \n",
       "\n",
       "   gas_heating  electric_heating  pump_heating  central_heating  heat_bool  \\\n",
       "0        False             False          True             True       True   \n",
       "1        False             False         False            False      False   \n",
       "2        False             False         False             True       True   \n",
       "3        False              True          True             True       True   \n",
       "4        False             False         False             True       True   \n",
       "\n",
       "   air_conditioner  ceiling_fan  cool_bool  Garage  Carport  Parking_lot  \\\n",
       "0             True        False      False   False    False        False   \n",
       "1            False        False      False   False    False        False   \n",
       "2            False        False       True   False    False        False   \n",
       "3             True        False       True   False    False        False   \n",
       "4            False        False       True   False    False        False   \n",
       "\n",
       "   PublicSchoolOverallRanking  HDI (2021)  Crime Rate  \n",
       "0                        43.0       0.907       4.872  \n",
       "1                        13.0       0.940       5.759  \n",
       "2                         9.0       0.923       3.678  \n",
       "3                        42.0       0.911       3.922  \n",
       "4                        16.0       0.930       3.700  "
      ]
     },
     "execution_count": 3,
     "metadata": {},
     "output_type": "execute_result"
    }
   ],
   "source": [
    "# # Производим десериализацию и извлекаем модель из файла формата pkl\n",
    "with open('data/df.pkl', 'rb') as pkl_file:\n",
    "    df = pickle.load(pkl_file)\n",
    "\n",
    "df.head()"
   ]
  },
  {
   "cell_type": "code",
   "execution_count": 4,
   "metadata": {},
   "outputs": [
    {
     "name": "stdout",
     "output_type": "stream",
     "text": [
      "<class 'pandas.core.frame.DataFrame'>\n",
      "RangeIndex: 284051 entries, 0 to 284050\n",
      "Data columns (total 47 columns):\n",
      " #   Column                      Non-Null Count   Dtype  \n",
      "---  ------                      --------------   -----  \n",
      " 0   baths                       231268 non-null  float64\n",
      " 1   sqft                        284051 non-null  float64\n",
      " 2   beds                        229584 non-null  float64\n",
      " 3   target                      284051 non-null  float64\n",
      " 4   city_is_capital             284051 non-null  bool   \n",
      " 5   city_is_million             284051 non-null  bool   \n",
      " 6   city_is_big                 284051 non-null  bool   \n",
      " 7   city_is_large               284051 non-null  bool   \n",
      " 8   claster                     284029 non-null  float64\n",
      " 9   distance_capital            284029 non-null  float64\n",
      " 10  distance_million            284029 non-null  float64\n",
      " 11  firepl                      284051 non-null  bool   \n",
      " 12  1_level                     284051 non-null  bool   \n",
      " 13  2_level                     284051 non-null  bool   \n",
      " 14  3_level                     284051 non-null  bool   \n",
      " 15  4_level                     284051 non-null  bool   \n",
      " 16  multi_level                 284051 non-null  bool   \n",
      " 17  multi_family                284051 non-null  bool   \n",
      " 18  condo                       284051 non-null  bool   \n",
      " 19  Farms/Ranches               284051 non-null  bool   \n",
      " 20  Townhouse                   284051 non-null  bool   \n",
      " 21  Single Family Home          284051 non-null  bool   \n",
      " 22  pool                        284051 non-null  bool   \n",
      " 23  auction                     284051 non-null  bool   \n",
      " 24  foreclosure                 284051 non-null  bool   \n",
      " 25  new                         284051 non-null  bool   \n",
      " 26  school_rating_mean          281387 non-null  float64\n",
      " 27  number_school               284051 non-null  int64  \n",
      " 28  school_distance_mean        282084 non-null  float64\n",
      " 29  Year_built                  266035 non-null  float64\n",
      " 30  lotsize                     284051 non-null  float64\n",
      " 31  Remodeled                   284051 non-null  bool   \n",
      " 32  forced_air_heating          284051 non-null  bool   \n",
      " 33  gas_heating                 284051 non-null  bool   \n",
      " 34  electric_heating            284051 non-null  bool   \n",
      " 35  pump_heating                284051 non-null  bool   \n",
      " 36  central_heating             284051 non-null  bool   \n",
      " 37  heat_bool                   284051 non-null  bool   \n",
      " 38  air_conditioner             284051 non-null  bool   \n",
      " 39  ceiling_fan                 284051 non-null  bool   \n",
      " 40  cool_bool                   284051 non-null  bool   \n",
      " 41  Garage                      284051 non-null  bool   \n",
      " 42  Carport                     284051 non-null  bool   \n",
      " 43  Parking_lot                 284051 non-null  bool   \n",
      " 44  PublicSchoolOverallRanking  284051 non-null  float64\n",
      " 45  HDI (2021)                  284051 non-null  float64\n",
      " 46  Crime Rate                  284051 non-null  float32\n",
      "dtypes: bool(32), float32(1), float64(13), int64(1)\n",
      "memory usage: 40.1 MB\n"
     ]
    }
   ],
   "source": [
    "df.info()"
   ]
  },
  {
   "cell_type": "code",
   "execution_count": 5,
   "metadata": {},
   "outputs": [
    {
     "data": {
      "text/plain": [
       "['1_level',\n",
       " '2_level',\n",
       " '3_level',\n",
       " '4_level',\n",
       " 'air_conditioner',\n",
       " 'auction',\n",
       " 'baths',\n",
       " 'beds',\n",
       " 'Carport',\n",
       " 'ceiling_fan',\n",
       " 'central_heating',\n",
       " 'city_is_big',\n",
       " 'city_is_capital',\n",
       " 'city_is_large',\n",
       " 'city_is_million',\n",
       " 'claster',\n",
       " 'condo',\n",
       " 'cool_bool',\n",
       " 'Crime Rate',\n",
       " 'distance_capital',\n",
       " 'distance_million',\n",
       " 'electric_heating',\n",
       " 'Farms/Ranches',\n",
       " 'firepl',\n",
       " 'forced_air_heating',\n",
       " 'foreclosure',\n",
       " 'Garage',\n",
       " 'gas_heating',\n",
       " 'HDI (2021)',\n",
       " 'heat_bool',\n",
       " 'lotsize',\n",
       " 'multi_family',\n",
       " 'multi_level',\n",
       " 'new',\n",
       " 'number_school',\n",
       " 'Parking_lot',\n",
       " 'pool',\n",
       " 'PublicSchoolOverallRanking',\n",
       " 'pump_heating',\n",
       " 'Remodeled',\n",
       " 'school_distance_mean',\n",
       " 'school_rating_mean',\n",
       " 'Single Family Home',\n",
       " 'sqft',\n",
       " 'target',\n",
       " 'Townhouse',\n",
       " 'Year_built']"
      ]
     },
     "execution_count": 5,
     "metadata": {},
     "output_type": "execute_result"
    }
   ],
   "source": [
    "sorted(df.columns,key=str.lower)"
   ]
  },
  {
   "cell_type": "code",
   "execution_count": 6,
   "metadata": {},
   "outputs": [
    {
     "name": "stdout",
     "output_type": "stream",
     "text": [
      "(199056, 47)\n",
      "(99528, 46)\n",
      "(49764, 46)\n",
      "0.5305529267122149\n",
      "134751.35666123792\n",
      "0.46305056367707376\n"
     ]
    }
   ],
   "source": [
    "object_columns = [s for s in df.columns if df[s].dtypes == 'object']\n",
    "df = df.drop(object_columns, axis = 1)\n",
    "\n",
    "# df = df.drop([               ],axis=1).copy() \n",
    "df = df.dropna()\n",
    "print(df.shape)\n",
    "\n",
    "X = df.drop('target',axis=1)\n",
    "y = df.target\n",
    "\n",
    "\n",
    "# Надо обязательно разбить на train, test, valid\n",
    "\n",
    "X_train, X_tmp, y_train, y_tmp = train_test_split(X, y, train_size=0.5, random_state=random_state)\n",
    "\n",
    "X_val, X_test, y_val, y_test  = train_test_split(X_tmp, y_tmp, train_size=0.5, random_state=random_state)\n",
    "\n",
    "\n",
    "print(X_train.shape)\n",
    "print(X_test.shape)\n",
    "\n",
    "X_train.head()\n",
    "\n",
    "baseline = LinearRegression()\n",
    "baseline.fit(X_train,y_train)\n",
    "\n",
    "\n",
    "predict = baseline.predict(X_test)\n",
    "print(mean_absolute_percentage_error(y_test,predict))\n",
    "# print(trans_target.inverse_transform(np.array(mean_absolute_error(y_test,predict)).reshape(-1, 1)))\n",
    "print(mean_absolute_error(y_test,predict))\n",
    "print(r2_score(y_test,predict))"
   ]
  },
  {
   "cell_type": "code",
   "execution_count": 7,
   "metadata": {},
   "outputs": [
    {
     "name": "stdout",
     "output_type": "stream",
     "text": [
      "LinearRegression(n_jobs=-1)\n",
      "Lasso(max_iter=10000, random_state=42)\n",
      "Ridge(random_state=42, solver='svd')\n",
      "DecisionTreeRegressor(random_state=42)\n",
      "RandomForestRegressor(n_jobs=-1, random_state=42)\n",
      "HistGradientBoostingRegressor(random_state=42)\n",
      "GradientBoostingRegressor(random_state=42)\n",
      "ExtraTreesRegressor(n_jobs=-1, random_state=42)\n",
      "BaggingRegressor(n_jobs=-1, random_state=42)\n",
      "ARDRegression()\n",
      "KNeighborsRegressor(n_jobs=-1)\n",
      "LGBMRegressor(force_col_wise=True, random_state=42)\n",
      "XGBRegressor(base_score=None, booster=None, callbacks=None,\n",
      "             colsample_bylevel=None, colsample_bynode=None,\n",
      "             colsample_bytree=None, device=None, early_stopping_rounds=None,\n",
      "             enable_categorical=False, eval_metric=None, feature_types=None,\n",
      "             gamma=None, grow_policy=None, importance_type=None,\n",
      "             interaction_constraints=None, learning_rate=None, max_bin=None,\n",
      "             max_cat_threshold=None, max_cat_to_onehot=None,\n",
      "             max_delta_step=None, max_depth=None, max_leaves=None,\n",
      "             min_child_weight=None, missing=nan, monotone_constraints=None,\n",
      "             multi_strategy=None, n_estimators=None, n_jobs=-1,\n",
      "             num_parallel_tree=None, random_state=42, ...)\n",
      "<catboost.core.CatBoostRegressor object at 0x000001CBA5CD6E50>\n"
     ]
    },
    {
     "data": {
      "text/html": [
       "<div>\n",
       "<style scoped>\n",
       "    .dataframe tbody tr th:only-of-type {\n",
       "        vertical-align: middle;\n",
       "    }\n",
       "\n",
       "    .dataframe tbody tr th {\n",
       "        vertical-align: top;\n",
       "    }\n",
       "\n",
       "    .dataframe thead th {\n",
       "        text-align: right;\n",
       "    }\n",
       "</style>\n",
       "<table border=\"1\" class=\"dataframe\">\n",
       "  <thead>\n",
       "    <tr style=\"text-align: right;\">\n",
       "      <th></th>\n",
       "      <th>model</th>\n",
       "      <th>mape</th>\n",
       "      <th>mae_$</th>\n",
       "      <th>R2</th>\n",
       "    </tr>\n",
       "  </thead>\n",
       "  <tbody>\n",
       "    <tr>\n",
       "      <th>0</th>\n",
       "      <td>LinearRegression(n_jobs=-1)</td>\n",
       "      <td>0.530553</td>\n",
       "      <td>134751.356661</td>\n",
       "      <td>0.463051</td>\n",
       "    </tr>\n",
       "    <tr>\n",
       "      <th>1</th>\n",
       "      <td>Lasso(max_iter=10000, random_state=42)</td>\n",
       "      <td>0.530552</td>\n",
       "      <td>134740.669399</td>\n",
       "      <td>0.463052</td>\n",
       "    </tr>\n",
       "    <tr>\n",
       "      <th>2</th>\n",
       "      <td>Ridge(random_state=42, solver='svd')</td>\n",
       "      <td>0.532985</td>\n",
       "      <td>134645.675178</td>\n",
       "      <td>0.461664</td>\n",
       "    </tr>\n",
       "    <tr>\n",
       "      <th>3</th>\n",
       "      <td>DecisionTreeRegressor(random_state=42)</td>\n",
       "      <td>0.302126</td>\n",
       "      <td>91367.240848</td>\n",
       "      <td>0.627175</td>\n",
       "    </tr>\n",
       "    <tr>\n",
       "      <th>4</th>\n",
       "      <td>RandomForestRegressor(n_jobs=-1, random_state=42)</td>\n",
       "      <td>0.237423</td>\n",
       "      <td>66915.008666</td>\n",
       "      <td>0.820985</td>\n",
       "    </tr>\n",
       "    <tr>\n",
       "      <th>5</th>\n",
       "      <td>HistGradientBoostingRegressor(random_state=42)</td>\n",
       "      <td>0.296726</td>\n",
       "      <td>82457.36166</td>\n",
       "      <td>0.761738</td>\n",
       "    </tr>\n",
       "    <tr>\n",
       "      <th>6</th>\n",
       "      <td>GradientBoostingRegressor(random_state=42)</td>\n",
       "      <td>0.38697</td>\n",
       "      <td>101797.228261</td>\n",
       "      <td>0.659745</td>\n",
       "    </tr>\n",
       "    <tr>\n",
       "      <th>7</th>\n",
       "      <td>ExtraTreesRegressor(n_jobs=-1, random_state=42)</td>\n",
       "      <td>0.238197</td>\n",
       "      <td>67608.434081</td>\n",
       "      <td>0.813972</td>\n",
       "    </tr>\n",
       "    <tr>\n",
       "      <th>8</th>\n",
       "      <td>BaggingRegressor(n_jobs=-1, random_state=42)</td>\n",
       "      <td>0.251465</td>\n",
       "      <td>71804.292549</td>\n",
       "      <td>0.797385</td>\n",
       "    </tr>\n",
       "    <tr>\n",
       "      <th>9</th>\n",
       "      <td>ARDRegression()</td>\n",
       "      <td>0.530897</td>\n",
       "      <td>134771.376067</td>\n",
       "      <td>0.462945</td>\n",
       "    </tr>\n",
       "    <tr>\n",
       "      <th>10</th>\n",
       "      <td>KNeighborsRegressor(n_jobs=-1)</td>\n",
       "      <td>0.368113</td>\n",
       "      <td>103170.822812</td>\n",
       "      <td>0.615758</td>\n",
       "    </tr>\n",
       "    <tr>\n",
       "      <th>11</th>\n",
       "      <td>LGBMRegressor(force_col_wise=True, random_stat...</td>\n",
       "      <td>0.295872</td>\n",
       "      <td>82371.650094</td>\n",
       "      <td>0.763002</td>\n",
       "    </tr>\n",
       "    <tr>\n",
       "      <th>12</th>\n",
       "      <td>XGBRegressor(base_score=None, booster=None, ca...</td>\n",
       "      <td>0.260297</td>\n",
       "      <td>74947.058087</td>\n",
       "      <td>0.797932</td>\n",
       "    </tr>\n",
       "    <tr>\n",
       "      <th>13</th>\n",
       "      <td>&lt;catboost.core.CatBoostRegressor object at 0x0...</td>\n",
       "      <td>0.254668</td>\n",
       "      <td>73210.935491</td>\n",
       "      <td>0.805847</td>\n",
       "    </tr>\n",
       "  </tbody>\n",
       "</table>\n",
       "</div>"
      ],
      "text/plain": [
       "                                                model      mape  \\\n",
       "0                         LinearRegression(n_jobs=-1)  0.530553   \n",
       "1              Lasso(max_iter=10000, random_state=42)  0.530552   \n",
       "2                Ridge(random_state=42, solver='svd')  0.532985   \n",
       "3              DecisionTreeRegressor(random_state=42)  0.302126   \n",
       "4   RandomForestRegressor(n_jobs=-1, random_state=42)  0.237423   \n",
       "5      HistGradientBoostingRegressor(random_state=42)  0.296726   \n",
       "6          GradientBoostingRegressor(random_state=42)   0.38697   \n",
       "7     ExtraTreesRegressor(n_jobs=-1, random_state=42)  0.238197   \n",
       "8        BaggingRegressor(n_jobs=-1, random_state=42)  0.251465   \n",
       "9                                     ARDRegression()  0.530897   \n",
       "10                     KNeighborsRegressor(n_jobs=-1)  0.368113   \n",
       "11  LGBMRegressor(force_col_wise=True, random_stat...  0.295872   \n",
       "12  XGBRegressor(base_score=None, booster=None, ca...  0.260297   \n",
       "13  <catboost.core.CatBoostRegressor object at 0x0...  0.254668   \n",
       "\n",
       "            mae_$        R2  \n",
       "0   134751.356661  0.463051  \n",
       "1   134740.669399  0.463052  \n",
       "2   134645.675178  0.461664  \n",
       "3    91367.240848  0.627175  \n",
       "4    66915.008666  0.820985  \n",
       "5     82457.36166  0.761738  \n",
       "6   101797.228261  0.659745  \n",
       "7    67608.434081  0.813972  \n",
       "8    71804.292549  0.797385  \n",
       "9   134771.376067  0.462945  \n",
       "10  103170.822812  0.615758  \n",
       "11   82371.650094  0.763002  \n",
       "12   74947.058087  0.797932  \n",
       "13   73210.935491  0.805847  "
      ]
     },
     "execution_count": 7,
     "metadata": {},
     "output_type": "execute_result"
    }
   ],
   "source": [
    "models = [\n",
    "    LinearRegression(n_jobs=n_jobs,),\n",
    "    Lasso(random_state=random_state,max_iter=10000),\n",
    "    Ridge(random_state=random_state,solver='svd'),\n",
    "    DecisionTreeRegressor(random_state=random_state,),\n",
    "    RandomForestRegressor(random_state=random_state,n_jobs=n_jobs,),\n",
    "    HistGradientBoostingRegressor(random_state=random_state),\n",
    "    GradientBoostingRegressor(random_state=random_state,),\n",
    "    ExtraTreesRegressor(random_state=random_state,n_jobs=n_jobs,),\n",
    "    BaggingRegressor(random_state=random_state,n_jobs=n_jobs,),\n",
    "    ARDRegression(),\n",
    "    KNeighborsRegressor(n_jobs=n_jobs,),\n",
    "    # SVR(kernel='poly'),# исключила, тк хуже baseline и ужасно медленный\n",
    "    LGBMRegressor(random_state=random_state,force_col_wise=True,n_jobs=n_jobs,),\n",
    "    xg.XGBRegressor(random_state=random_state,n_jobs=n_jobs,),\n",
    "    CatBoostRegressor(random_seed=random_state,verbose=0,)\n",
    "          ]\n",
    "result_mape = []\n",
    "result_mae_S = []\n",
    "result_r2 = []\n",
    "\n",
    "# display(X_train)\n",
    "\n",
    "for model in models:\n",
    "    print(model)\n",
    "    model.fit(X_train,y_train)\n",
    "    predict = model.predict(X_test)\n",
    "    result_mape.append(mean_absolute_percentage_error(y_test,predict))\n",
    "    # result_mae_S.append(trans_target.inverse_transform(np.array(mean_absolute_error(y_test,predict)).reshape(-1, 1)))\n",
    "    result_mae_S.append(mean_absolute_error(y_test,predict))\n",
    "    result_r2.append(r2_score(y_test,predict))\n",
    "\n",
    "\n",
    "models_name = []\n",
    "for i in range(len(models)):\n",
    "    models_name.append(str(models[i]))\n",
    "\n",
    "\n",
    "df_rez = pd.DataFrame(data=[models_name,result_mape,result_mae_S,result_r2]).T\n",
    "df_rez.columns = ['model','mape','mae_$','R2']\n",
    "df_rez"
   ]
  },
  {
   "cell_type": "markdown",
   "metadata": {},
   "source": [
    "Дополнительно обучала LightAutoML (см. \"First_year_real_estate_edditional_part.ipynb\" ) "
   ]
  },
  {
   "cell_type": "markdown",
   "metadata": {},
   "source": [
    "Одна из лучших моделей это RandomForestRegressor. Эту модель буду обучать и улучшать."
   ]
  },
  {
   "cell_type": "code",
   "execution_count": 8,
   "metadata": {},
   "outputs": [
    {
     "name": "stdout",
     "output_type": "stream",
     "text": [
      "mean_absolute_percentage_error  0.23742284458939553\n",
      "mean_absolute_error  66915.00866592067\n",
      "r2_score  0.82098503836017\n"
     ]
    },
    {
     "data": {
      "application/vnd.plotly.v1+json": {
       "config": {
        "plotlyServerURL": "https://plot.ly"
       },
       "data": [
        {
         "alignmentgroup": "True",
         "hovertemplate": "variable=Importance<br>index=%{x}<br>value=%{y}<extra></extra>",
         "legendgroup": "Importance",
         "marker": {
          "color": "#636efa",
          "pattern": {
           "shape": ""
          }
         },
         "name": "Importance",
         "offsetgroup": "Importance",
         "orientation": "v",
         "showlegend": true,
         "textposition": "auto",
         "texttemplate": "%{y}",
         "type": "bar",
         "x": [
          "baths",
          "distance_million",
          "HDI (2021)",
          "lotsize",
          "sqft",
          "distance_capital",
          "Year_built",
          "school_rating_mean",
          "school_distance_mean",
          "claster",
          "PublicSchoolOverallRanking",
          "beds",
          "Crime Rate",
          "city_is_big",
          "condo",
          "number_school",
          "pool",
          "Single Family Home",
          "firepl",
          "Remodeled",
          "multi_level",
          "Garage",
          "forced_air_heating",
          "3_level",
          "central_heating",
          "cool_bool",
          "city_is_large",
          "Townhouse",
          "Carport",
          "heat_bool",
          "electric_heating",
          "pump_heating",
          "1_level",
          "multi_family",
          "2_level",
          "foreclosure",
          "city_is_million",
          "gas_heating",
          "city_is_capital",
          "Farms/Ranches",
          "air_conditioner",
          "4_level",
          "new",
          "Parking_lot",
          "ceiling_fan",
          "auction"
         ],
         "xaxis": "x",
         "y": [
          0.161,
          0.16,
          0.139,
          0.094,
          0.085,
          0.071,
          0.057,
          0.051,
          0.032,
          0.021,
          0.017,
          0.014,
          0.011,
          0.01,
          0.01,
          0.007,
          0.005,
          0.004,
          0.004,
          0.004,
          0.004,
          0.004,
          0.003,
          0.003,
          0.003,
          0.003,
          0.003,
          0.002,
          0.002,
          0.002,
          0.002,
          0.002,
          0.001,
          0.001,
          0.001,
          0.001,
          0.001,
          0.001,
          0.001,
          0.001,
          0.001,
          0.001,
          0.001,
          0.001,
          0,
          0
         ],
         "yaxis": "y"
        }
       ],
       "layout": {
        "barmode": "relative",
        "legend": {
         "title": {
          "text": "variable"
         },
         "tracegroupgap": 0
        },
        "margin": {
         "t": 60
        },
        "template": {
         "data": {
          "bar": [
           {
            "error_x": {
             "color": "#2a3f5f"
            },
            "error_y": {
             "color": "#2a3f5f"
            },
            "marker": {
             "line": {
              "color": "#E5ECF6",
              "width": 0.5
             },
             "pattern": {
              "fillmode": "overlay",
              "size": 10,
              "solidity": 0.2
             }
            },
            "type": "bar"
           }
          ],
          "barpolar": [
           {
            "marker": {
             "line": {
              "color": "#E5ECF6",
              "width": 0.5
             },
             "pattern": {
              "fillmode": "overlay",
              "size": 10,
              "solidity": 0.2
             }
            },
            "type": "barpolar"
           }
          ],
          "carpet": [
           {
            "aaxis": {
             "endlinecolor": "#2a3f5f",
             "gridcolor": "white",
             "linecolor": "white",
             "minorgridcolor": "white",
             "startlinecolor": "#2a3f5f"
            },
            "baxis": {
             "endlinecolor": "#2a3f5f",
             "gridcolor": "white",
             "linecolor": "white",
             "minorgridcolor": "white",
             "startlinecolor": "#2a3f5f"
            },
            "type": "carpet"
           }
          ],
          "choropleth": [
           {
            "colorbar": {
             "outlinewidth": 0,
             "ticks": ""
            },
            "type": "choropleth"
           }
          ],
          "contour": [
           {
            "colorbar": {
             "outlinewidth": 0,
             "ticks": ""
            },
            "colorscale": [
             [
              0,
              "#0d0887"
             ],
             [
              0.1111111111111111,
              "#46039f"
             ],
             [
              0.2222222222222222,
              "#7201a8"
             ],
             [
              0.3333333333333333,
              "#9c179e"
             ],
             [
              0.4444444444444444,
              "#bd3786"
             ],
             [
              0.5555555555555556,
              "#d8576b"
             ],
             [
              0.6666666666666666,
              "#ed7953"
             ],
             [
              0.7777777777777778,
              "#fb9f3a"
             ],
             [
              0.8888888888888888,
              "#fdca26"
             ],
             [
              1,
              "#f0f921"
             ]
            ],
            "type": "contour"
           }
          ],
          "contourcarpet": [
           {
            "colorbar": {
             "outlinewidth": 0,
             "ticks": ""
            },
            "type": "contourcarpet"
           }
          ],
          "heatmap": [
           {
            "colorbar": {
             "outlinewidth": 0,
             "ticks": ""
            },
            "colorscale": [
             [
              0,
              "#0d0887"
             ],
             [
              0.1111111111111111,
              "#46039f"
             ],
             [
              0.2222222222222222,
              "#7201a8"
             ],
             [
              0.3333333333333333,
              "#9c179e"
             ],
             [
              0.4444444444444444,
              "#bd3786"
             ],
             [
              0.5555555555555556,
              "#d8576b"
             ],
             [
              0.6666666666666666,
              "#ed7953"
             ],
             [
              0.7777777777777778,
              "#fb9f3a"
             ],
             [
              0.8888888888888888,
              "#fdca26"
             ],
             [
              1,
              "#f0f921"
             ]
            ],
            "type": "heatmap"
           }
          ],
          "heatmapgl": [
           {
            "colorbar": {
             "outlinewidth": 0,
             "ticks": ""
            },
            "colorscale": [
             [
              0,
              "#0d0887"
             ],
             [
              0.1111111111111111,
              "#46039f"
             ],
             [
              0.2222222222222222,
              "#7201a8"
             ],
             [
              0.3333333333333333,
              "#9c179e"
             ],
             [
              0.4444444444444444,
              "#bd3786"
             ],
             [
              0.5555555555555556,
              "#d8576b"
             ],
             [
              0.6666666666666666,
              "#ed7953"
             ],
             [
              0.7777777777777778,
              "#fb9f3a"
             ],
             [
              0.8888888888888888,
              "#fdca26"
             ],
             [
              1,
              "#f0f921"
             ]
            ],
            "type": "heatmapgl"
           }
          ],
          "histogram": [
           {
            "marker": {
             "pattern": {
              "fillmode": "overlay",
              "size": 10,
              "solidity": 0.2
             }
            },
            "type": "histogram"
           }
          ],
          "histogram2d": [
           {
            "colorbar": {
             "outlinewidth": 0,
             "ticks": ""
            },
            "colorscale": [
             [
              0,
              "#0d0887"
             ],
             [
              0.1111111111111111,
              "#46039f"
             ],
             [
              0.2222222222222222,
              "#7201a8"
             ],
             [
              0.3333333333333333,
              "#9c179e"
             ],
             [
              0.4444444444444444,
              "#bd3786"
             ],
             [
              0.5555555555555556,
              "#d8576b"
             ],
             [
              0.6666666666666666,
              "#ed7953"
             ],
             [
              0.7777777777777778,
              "#fb9f3a"
             ],
             [
              0.8888888888888888,
              "#fdca26"
             ],
             [
              1,
              "#f0f921"
             ]
            ],
            "type": "histogram2d"
           }
          ],
          "histogram2dcontour": [
           {
            "colorbar": {
             "outlinewidth": 0,
             "ticks": ""
            },
            "colorscale": [
             [
              0,
              "#0d0887"
             ],
             [
              0.1111111111111111,
              "#46039f"
             ],
             [
              0.2222222222222222,
              "#7201a8"
             ],
             [
              0.3333333333333333,
              "#9c179e"
             ],
             [
              0.4444444444444444,
              "#bd3786"
             ],
             [
              0.5555555555555556,
              "#d8576b"
             ],
             [
              0.6666666666666666,
              "#ed7953"
             ],
             [
              0.7777777777777778,
              "#fb9f3a"
             ],
             [
              0.8888888888888888,
              "#fdca26"
             ],
             [
              1,
              "#f0f921"
             ]
            ],
            "type": "histogram2dcontour"
           }
          ],
          "mesh3d": [
           {
            "colorbar": {
             "outlinewidth": 0,
             "ticks": ""
            },
            "type": "mesh3d"
           }
          ],
          "parcoords": [
           {
            "line": {
             "colorbar": {
              "outlinewidth": 0,
              "ticks": ""
             }
            },
            "type": "parcoords"
           }
          ],
          "pie": [
           {
            "automargin": true,
            "type": "pie"
           }
          ],
          "scatter": [
           {
            "fillpattern": {
             "fillmode": "overlay",
             "size": 10,
             "solidity": 0.2
            },
            "type": "scatter"
           }
          ],
          "scatter3d": [
           {
            "line": {
             "colorbar": {
              "outlinewidth": 0,
              "ticks": ""
             }
            },
            "marker": {
             "colorbar": {
              "outlinewidth": 0,
              "ticks": ""
             }
            },
            "type": "scatter3d"
           }
          ],
          "scattercarpet": [
           {
            "marker": {
             "colorbar": {
              "outlinewidth": 0,
              "ticks": ""
             }
            },
            "type": "scattercarpet"
           }
          ],
          "scattergeo": [
           {
            "marker": {
             "colorbar": {
              "outlinewidth": 0,
              "ticks": ""
             }
            },
            "type": "scattergeo"
           }
          ],
          "scattergl": [
           {
            "marker": {
             "colorbar": {
              "outlinewidth": 0,
              "ticks": ""
             }
            },
            "type": "scattergl"
           }
          ],
          "scattermapbox": [
           {
            "marker": {
             "colorbar": {
              "outlinewidth": 0,
              "ticks": ""
             }
            },
            "type": "scattermapbox"
           }
          ],
          "scatterpolar": [
           {
            "marker": {
             "colorbar": {
              "outlinewidth": 0,
              "ticks": ""
             }
            },
            "type": "scatterpolar"
           }
          ],
          "scatterpolargl": [
           {
            "marker": {
             "colorbar": {
              "outlinewidth": 0,
              "ticks": ""
             }
            },
            "type": "scatterpolargl"
           }
          ],
          "scatterternary": [
           {
            "marker": {
             "colorbar": {
              "outlinewidth": 0,
              "ticks": ""
             }
            },
            "type": "scatterternary"
           }
          ],
          "surface": [
           {
            "colorbar": {
             "outlinewidth": 0,
             "ticks": ""
            },
            "colorscale": [
             [
              0,
              "#0d0887"
             ],
             [
              0.1111111111111111,
              "#46039f"
             ],
             [
              0.2222222222222222,
              "#7201a8"
             ],
             [
              0.3333333333333333,
              "#9c179e"
             ],
             [
              0.4444444444444444,
              "#bd3786"
             ],
             [
              0.5555555555555556,
              "#d8576b"
             ],
             [
              0.6666666666666666,
              "#ed7953"
             ],
             [
              0.7777777777777778,
              "#fb9f3a"
             ],
             [
              0.8888888888888888,
              "#fdca26"
             ],
             [
              1,
              "#f0f921"
             ]
            ],
            "type": "surface"
           }
          ],
          "table": [
           {
            "cells": {
             "fill": {
              "color": "#EBF0F8"
             },
             "line": {
              "color": "white"
             }
            },
            "header": {
             "fill": {
              "color": "#C8D4E3"
             },
             "line": {
              "color": "white"
             }
            },
            "type": "table"
           }
          ]
         },
         "layout": {
          "annotationdefaults": {
           "arrowcolor": "#2a3f5f",
           "arrowhead": 0,
           "arrowwidth": 1
          },
          "autotypenumbers": "strict",
          "coloraxis": {
           "colorbar": {
            "outlinewidth": 0,
            "ticks": ""
           }
          },
          "colorscale": {
           "diverging": [
            [
             0,
             "#8e0152"
            ],
            [
             0.1,
             "#c51b7d"
            ],
            [
             0.2,
             "#de77ae"
            ],
            [
             0.3,
             "#f1b6da"
            ],
            [
             0.4,
             "#fde0ef"
            ],
            [
             0.5,
             "#f7f7f7"
            ],
            [
             0.6,
             "#e6f5d0"
            ],
            [
             0.7,
             "#b8e186"
            ],
            [
             0.8,
             "#7fbc41"
            ],
            [
             0.9,
             "#4d9221"
            ],
            [
             1,
             "#276419"
            ]
           ],
           "sequential": [
            [
             0,
             "#0d0887"
            ],
            [
             0.1111111111111111,
             "#46039f"
            ],
            [
             0.2222222222222222,
             "#7201a8"
            ],
            [
             0.3333333333333333,
             "#9c179e"
            ],
            [
             0.4444444444444444,
             "#bd3786"
            ],
            [
             0.5555555555555556,
             "#d8576b"
            ],
            [
             0.6666666666666666,
             "#ed7953"
            ],
            [
             0.7777777777777778,
             "#fb9f3a"
            ],
            [
             0.8888888888888888,
             "#fdca26"
            ],
            [
             1,
             "#f0f921"
            ]
           ],
           "sequentialminus": [
            [
             0,
             "#0d0887"
            ],
            [
             0.1111111111111111,
             "#46039f"
            ],
            [
             0.2222222222222222,
             "#7201a8"
            ],
            [
             0.3333333333333333,
             "#9c179e"
            ],
            [
             0.4444444444444444,
             "#bd3786"
            ],
            [
             0.5555555555555556,
             "#d8576b"
            ],
            [
             0.6666666666666666,
             "#ed7953"
            ],
            [
             0.7777777777777778,
             "#fb9f3a"
            ],
            [
             0.8888888888888888,
             "#fdca26"
            ],
            [
             1,
             "#f0f921"
            ]
           ]
          },
          "colorway": [
           "#636efa",
           "#EF553B",
           "#00cc96",
           "#ab63fa",
           "#FFA15A",
           "#19d3f3",
           "#FF6692",
           "#B6E880",
           "#FF97FF",
           "#FECB52"
          ],
          "font": {
           "color": "#2a3f5f"
          },
          "geo": {
           "bgcolor": "white",
           "lakecolor": "white",
           "landcolor": "#E5ECF6",
           "showlakes": true,
           "showland": true,
           "subunitcolor": "white"
          },
          "hoverlabel": {
           "align": "left"
          },
          "hovermode": "closest",
          "mapbox": {
           "style": "light"
          },
          "paper_bgcolor": "white",
          "plot_bgcolor": "#E5ECF6",
          "polar": {
           "angularaxis": {
            "gridcolor": "white",
            "linecolor": "white",
            "ticks": ""
           },
           "bgcolor": "#E5ECF6",
           "radialaxis": {
            "gridcolor": "white",
            "linecolor": "white",
            "ticks": ""
           }
          },
          "scene": {
           "xaxis": {
            "backgroundcolor": "#E5ECF6",
            "gridcolor": "white",
            "gridwidth": 2,
            "linecolor": "white",
            "showbackground": true,
            "ticks": "",
            "zerolinecolor": "white"
           },
           "yaxis": {
            "backgroundcolor": "#E5ECF6",
            "gridcolor": "white",
            "gridwidth": 2,
            "linecolor": "white",
            "showbackground": true,
            "ticks": "",
            "zerolinecolor": "white"
           },
           "zaxis": {
            "backgroundcolor": "#E5ECF6",
            "gridcolor": "white",
            "gridwidth": 2,
            "linecolor": "white",
            "showbackground": true,
            "ticks": "",
            "zerolinecolor": "white"
           }
          },
          "shapedefaults": {
           "line": {
            "color": "#2a3f5f"
           }
          },
          "ternary": {
           "aaxis": {
            "gridcolor": "white",
            "linecolor": "white",
            "ticks": ""
           },
           "baxis": {
            "gridcolor": "white",
            "linecolor": "white",
            "ticks": ""
           },
           "bgcolor": "#E5ECF6",
           "caxis": {
            "gridcolor": "white",
            "linecolor": "white",
            "ticks": ""
           }
          },
          "title": {
           "x": 0.05
          },
          "xaxis": {
           "automargin": true,
           "gridcolor": "white",
           "linecolor": "white",
           "ticks": "",
           "title": {
            "standoff": 15
           },
           "zerolinecolor": "white",
           "zerolinewidth": 2
          },
          "yaxis": {
           "automargin": true,
           "gridcolor": "white",
           "linecolor": "white",
           "ticks": "",
           "title": {
            "standoff": 15
           },
           "zerolinecolor": "white",
           "zerolinewidth": 2
          }
         }
        },
        "xaxis": {
         "anchor": "y",
         "domain": [
          0,
          1
         ],
         "title": {
          "text": "index"
         }
        },
        "yaxis": {
         "anchor": "x",
         "domain": [
          0,
          1
         ],
         "title": {
          "text": "value"
         }
        }
       }
      }
     },
     "metadata": {},
     "output_type": "display_data"
    }
   ],
   "source": [
    "model = RandomForestRegressor(random_state=random_state,\n",
    "                            n_jobs=n_jobs,)\n",
    "model.fit(X_train,y_train)\n",
    "# # Производим сериализацию и записываем результат в файл формата pkl\n",
    "with open(r'web\\app\\models\\model.pkl', 'wb') as output:\n",
    "    pickle.dump(model, output)\n",
    "\n",
    "predict = model.predict(X_test)\n",
    "print('mean_absolute_percentage_error ',mean_absolute_percentage_error(y_test,predict))\n",
    "print('mean_absolute_error ',mean_absolute_error(y_test,predict))\n",
    "print('r2_score ',r2_score(y_test,predict))\n",
    "# print('mean_absolute_error_$' ,trans_target.inverse_transform(np.array(mean_absolute_error(y_test,predict)).reshape(-1, 1)))\n",
    "\n",
    "\n",
    "feat_importances = pd.DataFrame(model.feature_importances_, index=X_train.columns, columns=[\"Importance\"]).sort_values('Importance',ascending=False)\n",
    "px.bar(feat_importances.round(3),text_auto=True)"
   ]
  },
  {
   "cell_type": "code",
   "execution_count": 9,
   "metadata": {},
   "outputs": [
    {
     "data": {
      "text/plain": [
       "['1_level',\n",
       " '2_level',\n",
       " '3_level',\n",
       " '4_level',\n",
       " 'air_conditioner',\n",
       " 'auction',\n",
       " 'baths',\n",
       " 'beds',\n",
       " 'Carport',\n",
       " 'ceiling_fan',\n",
       " 'central_heating',\n",
       " 'city_is_big',\n",
       " 'city_is_capital',\n",
       " 'city_is_large',\n",
       " 'city_is_million',\n",
       " 'claster',\n",
       " 'condo',\n",
       " 'cool_bool',\n",
       " 'Crime Rate',\n",
       " 'distance_capital',\n",
       " 'distance_million',\n",
       " 'electric_heating',\n",
       " 'Farms/Ranches',\n",
       " 'firepl',\n",
       " 'forced_air_heating',\n",
       " 'foreclosure',\n",
       " 'Garage',\n",
       " 'gas_heating',\n",
       " 'HDI (2021)',\n",
       " 'heat_bool',\n",
       " 'lotsize',\n",
       " 'multi_family',\n",
       " 'multi_level',\n",
       " 'new',\n",
       " 'number_school',\n",
       " 'Parking_lot',\n",
       " 'pool',\n",
       " 'PublicSchoolOverallRanking',\n",
       " 'pump_heating',\n",
       " 'Remodeled',\n",
       " 'school_distance_mean',\n",
       " 'school_rating_mean',\n",
       " 'Single Family Home',\n",
       " 'sqft',\n",
       " 'target',\n",
       " 'Townhouse',\n",
       " 'Year_built']"
      ]
     },
     "execution_count": 9,
     "metadata": {},
     "output_type": "execute_result"
    }
   ],
   "source": [
    "sorted(df.columns,key=str.lower)"
   ]
  },
  {
   "cell_type": "code",
   "execution_count": 10,
   "metadata": {},
   "outputs": [
    {
     "name": "stdout",
     "output_type": "stream",
     "text": [
      "Selected Features:\n",
      "Index(['distance_capital', 'distance_million', 'claster', 'lotsize', 'sqft',\n",
      "       'Year_built', 'Crime Rate', 'PublicSchoolOverallRanking', 'baths',\n",
      "       'HDI (2021)', 'school_rating_mean', 'beds', 'school_distance_mean',\n",
      "       'cool_bool', 'heat_bool', 'central_heating', 'foreclosure',\n",
      "       'number_school', 'Garage', 'Remodeled', 'Single Family Home',\n",
      "       'forced_air_heating', 'firepl', 'city_is_million', 'condo',\n",
      "       'multi_family', '3_level', 'pool', 'city_is_big', 'city_is_capital'],\n",
      "      dtype='object')\n"
     ]
    }
   ],
   "source": [
    "# Select the top 5 features using Univariate Feature Selection (change k as needed)\n",
    "k = 30\n",
    "selector = SelectKBest(score_func=mutual_info_regression, k=k)\n",
    "X_selected = selector.fit_transform(X, y)\n",
    "\n",
    "# Get the indices of the selected features\n",
    "selected_indices = np.argsort(selector.scores_)[::-1][:k]\n",
    "selected_features = X.columns[selected_indices]\n",
    "\n",
    "# Print the selected features\n",
    "print(\"Selected Features:\")\n",
    "print(selected_features)"
   ]
  },
  {
   "cell_type": "code",
   "execution_count": 11,
   "metadata": {},
   "outputs": [
    {
     "name": "stdout",
     "output_type": "stream",
     "text": [
      "mean_absolute_percentage_error  0.23811054955313937\n",
      "mean_absolute_error  66906.60650713391\n",
      "r2_score  0.821085884531771\n"
     ]
    }
   ],
   "source": [
    "X_train_skb, X_tmp_skb, y_train_skb, y_tmp_skb = train_test_split(df[selected_features], df.target, train_size=0.5, random_state=random_state)\n",
    "\n",
    "X_val_skb, X_test_skb, y_val_skb, y_test_skb  = train_test_split(X_tmp_skb, y_tmp_skb, train_size=0.5, random_state=random_state)\n",
    "\n",
    "model_skb = RandomForestRegressor(random_state=random_state,n_jobs=n_jobs,)\n",
    "model_skb.fit(X_train_skb,y_train_skb)\n",
    "# # Производим сериализацию и записываем результат в файл формата pkl\n",
    "with open(r'web\\app\\models\\model_skb.pkl', 'wb') as output:\n",
    "    pickle.dump(model_skb, output)\n",
    "\n",
    "predict = model_skb.predict(X_test_skb)\n",
    "print('mean_absolute_percentage_error ',mean_absolute_percentage_error(y_test_skb,predict))\n",
    "print('mean_absolute_error ',mean_absolute_error(y_test_skb,predict))\n",
    "print('r2_score ',r2_score(y_test_skb,predict))\n",
    "# print('mean_absolute_error_$' ,trans_target.inverse_transform(np.array(mean_absolute_error(y_test_skb,predict)).reshape(-1, 1)))\n",
    "\n",
    "# feat_importances = pd.DataFrame(model.feature_importances_, index=X_train.columns, columns=[\"Importance\"]).sort_values('Importance',ascending=False)\n",
    "# px.bar(feat_importances.round(3),text_auto=True)"
   ]
  },
  {
   "cell_type": "code",
   "execution_count": 12,
   "metadata": {},
   "outputs": [
    {
     "name": "stdout",
     "output_type": "stream",
     "text": [
      "mean_absolute_percentage_error  0.2390639871308121\n",
      "mean_absolute_error  67162.7126776768\n",
      "r2_score  0.817702242265252\n"
     ]
    }
   ],
   "source": [
    "predict = model_skb.predict(X_val_skb)\n",
    "print('mean_absolute_percentage_error ',mean_absolute_percentage_error(y_val_skb,predict))\n",
    "print('mean_absolute_error ',mean_absolute_error(y_val_skb,predict))\n",
    "print('r2_score ',r2_score(y_val_skb,predict))\n",
    "# print('mean_absolute_error_$' ,trans_target.inverse_transform(np.array(mean_absolute_error(y_test_skb,predict)).reshape(-1, 1)))"
   ]
  },
  {
   "cell_type": "code",
   "execution_count": 13,
   "metadata": {},
   "outputs": [
    {
     "name": "stdout",
     "output_type": "stream",
     "text": [
      "[ True  True  True  True  True  True  True  True  True  True  True  True\n",
      "  True  True  True  True  True  True  True  True  True  True  True  True\n",
      "  True  True  True  True  True  True  True  True  True  True  True  True\n",
      "  True  True  True  True  True  True  True  True  True  True]\n",
      "[1 1 1 1 1 1 1 1 1 1 1 1 1 1 1 1 1 1 1 1 1 1 1 1 1 1 1 1 1 1 1 1 1 1 1 1 1\n",
      " 1 1 1 1 1 1 1 1 1]\n",
      "<bound method SelectorMixin.get_feature_names_out of RFECV(cv=3, estimator=RandomForestRegressor(n_jobs=-1, random_state=42),\n",
      "      min_features_to_select=50)>\n"
     ]
    }
   ],
   "source": [
    "X = df.drop('target',axis=1)\n",
    "y = df.target\n",
    "\n",
    "estimator = RandomForestRegressor(random_state=random_state,\n",
    "                                  n_jobs=n_jobs,)\n",
    "min_features_to_select = 50\n",
    "selector_RFECV = RFECV(estimator=estimator,\n",
    "                 min_features_to_select=min_features_to_select,\n",
    "                 step=1,\n",
    "                 cv=3)\n",
    "selector_RFECV = selector_RFECV.fit(X, y)\n",
    "print(selector_RFECV.support_)\n",
    "print(selector_RFECV.ranking_)\n",
    "print(selector_RFECV.get_feature_names_out )"
   ]
  },
  {
   "cell_type": "code",
   "execution_count": 14,
   "metadata": {},
   "outputs": [],
   "source": [
    "# # Производим сериализацию и записываем результат в файл формата pkl\n",
    "with open(r'web\\app\\models\\selector_RFECV.pkl', 'wb') as output:\n",
    "    pickle.dump(selector_RFECV, output)"
   ]
  },
  {
   "cell_type": "code",
   "execution_count": 15,
   "metadata": {},
   "outputs": [],
   "source": [
    "# # Производим десериализацию и извлекаем модель из файла формата pkl\n",
    "with open(r'web\\app\\models\\selector_RFECV.pkl', 'rb') as pkl_file:\n",
    "    selector_RFECV = pickle.load(pkl_file)"
   ]
  },
  {
   "cell_type": "code",
   "execution_count": 16,
   "metadata": {},
   "outputs": [
    {
     "data": {
      "text/html": [
       "<style>#sk-container-id-1 {color: black;}#sk-container-id-1 pre{padding: 0;}#sk-container-id-1 div.sk-toggleable {background-color: white;}#sk-container-id-1 label.sk-toggleable__label {cursor: pointer;display: block;width: 100%;margin-bottom: 0;padding: 0.3em;box-sizing: border-box;text-align: center;}#sk-container-id-1 label.sk-toggleable__label-arrow:before {content: \"▸\";float: left;margin-right: 0.25em;color: #696969;}#sk-container-id-1 label.sk-toggleable__label-arrow:hover:before {color: black;}#sk-container-id-1 div.sk-estimator:hover label.sk-toggleable__label-arrow:before {color: black;}#sk-container-id-1 div.sk-toggleable__content {max-height: 0;max-width: 0;overflow: hidden;text-align: left;background-color: #f0f8ff;}#sk-container-id-1 div.sk-toggleable__content pre {margin: 0.2em;color: black;border-radius: 0.25em;background-color: #f0f8ff;}#sk-container-id-1 input.sk-toggleable__control:checked~div.sk-toggleable__content {max-height: 200px;max-width: 100%;overflow: auto;}#sk-container-id-1 input.sk-toggleable__control:checked~label.sk-toggleable__label-arrow:before {content: \"▾\";}#sk-container-id-1 div.sk-estimator input.sk-toggleable__control:checked~label.sk-toggleable__label {background-color: #d4ebff;}#sk-container-id-1 div.sk-label input.sk-toggleable__control:checked~label.sk-toggleable__label {background-color: #d4ebff;}#sk-container-id-1 input.sk-hidden--visually {border: 0;clip: rect(1px 1px 1px 1px);clip: rect(1px, 1px, 1px, 1px);height: 1px;margin: -1px;overflow: hidden;padding: 0;position: absolute;width: 1px;}#sk-container-id-1 div.sk-estimator {font-family: monospace;background-color: #f0f8ff;border: 1px dotted black;border-radius: 0.25em;box-sizing: border-box;margin-bottom: 0.5em;}#sk-container-id-1 div.sk-estimator:hover {background-color: #d4ebff;}#sk-container-id-1 div.sk-parallel-item::after {content: \"\";width: 100%;border-bottom: 1px solid gray;flex-grow: 1;}#sk-container-id-1 div.sk-label:hover label.sk-toggleable__label {background-color: #d4ebff;}#sk-container-id-1 div.sk-serial::before {content: \"\";position: absolute;border-left: 1px solid gray;box-sizing: border-box;top: 0;bottom: 0;left: 50%;z-index: 0;}#sk-container-id-1 div.sk-serial {display: flex;flex-direction: column;align-items: center;background-color: white;padding-right: 0.2em;padding-left: 0.2em;position: relative;}#sk-container-id-1 div.sk-item {position: relative;z-index: 1;}#sk-container-id-1 div.sk-parallel {display: flex;align-items: stretch;justify-content: center;background-color: white;position: relative;}#sk-container-id-1 div.sk-item::before, #sk-container-id-1 div.sk-parallel-item::before {content: \"\";position: absolute;border-left: 1px solid gray;box-sizing: border-box;top: 0;bottom: 0;left: 50%;z-index: -1;}#sk-container-id-1 div.sk-parallel-item {display: flex;flex-direction: column;z-index: 1;position: relative;background-color: white;}#sk-container-id-1 div.sk-parallel-item:first-child::after {align-self: flex-end;width: 50%;}#sk-container-id-1 div.sk-parallel-item:last-child::after {align-self: flex-start;width: 50%;}#sk-container-id-1 div.sk-parallel-item:only-child::after {width: 0;}#sk-container-id-1 div.sk-dashed-wrapped {border: 1px dashed gray;margin: 0 0.4em 0.5em 0.4em;box-sizing: border-box;padding-bottom: 0.4em;background-color: white;}#sk-container-id-1 div.sk-label label {font-family: monospace;font-weight: bold;display: inline-block;line-height: 1.2em;}#sk-container-id-1 div.sk-label-container {text-align: center;}#sk-container-id-1 div.sk-container {/* jupyter's `normalize.less` sets `[hidden] { display: none; }` but bootstrap.min.css set `[hidden] { display: none !important; }` so we also need the `!important` here to be able to override the default hidden behavior on the sphinx rendered scikit-learn.org. See: https://github.com/scikit-learn/scikit-learn/issues/21755 */display: inline-block !important;position: relative;}#sk-container-id-1 div.sk-text-repr-fallback {display: none;}</style><div id=\"sk-container-id-1\" class=\"sk-top-container\"><div class=\"sk-text-repr-fallback\"><pre>RFECV(cv=3, estimator=RandomForestRegressor(n_jobs=-1, random_state=42),\n",
       "      min_features_to_select=50)</pre><b>In a Jupyter environment, please rerun this cell to show the HTML representation or trust the notebook. <br />On GitHub, the HTML representation is unable to render, please try loading this page with nbviewer.org.</b></div><div class=\"sk-container\" hidden><div class=\"sk-item sk-dashed-wrapped\"><div class=\"sk-label-container\"><div class=\"sk-label sk-toggleable\"><input class=\"sk-toggleable__control sk-hidden--visually\" id=\"sk-estimator-id-1\" type=\"checkbox\" ><label for=\"sk-estimator-id-1\" class=\"sk-toggleable__label sk-toggleable__label-arrow\">RFECV</label><div class=\"sk-toggleable__content\"><pre>RFECV(cv=3, estimator=RandomForestRegressor(n_jobs=-1, random_state=42),\n",
       "      min_features_to_select=50)</pre></div></div></div><div class=\"sk-parallel\"><div class=\"sk-parallel-item\"><div class=\"sk-item\"><div class=\"sk-label-container\"><div class=\"sk-label sk-toggleable\"><input class=\"sk-toggleable__control sk-hidden--visually\" id=\"sk-estimator-id-2\" type=\"checkbox\" ><label for=\"sk-estimator-id-2\" class=\"sk-toggleable__label sk-toggleable__label-arrow\">estimator: RandomForestRegressor</label><div class=\"sk-toggleable__content\"><pre>RandomForestRegressor(n_jobs=-1, random_state=42)</pre></div></div></div><div class=\"sk-serial\"><div class=\"sk-item\"><div class=\"sk-estimator sk-toggleable\"><input class=\"sk-toggleable__control sk-hidden--visually\" id=\"sk-estimator-id-3\" type=\"checkbox\" ><label for=\"sk-estimator-id-3\" class=\"sk-toggleable__label sk-toggleable__label-arrow\">RandomForestRegressor</label><div class=\"sk-toggleable__content\"><pre>RandomForestRegressor(n_jobs=-1, random_state=42)</pre></div></div></div></div></div></div></div></div></div></div>"
      ],
      "text/plain": [
       "RFECV(cv=3, estimator=RandomForestRegressor(n_jobs=-1, random_state=42),\n",
       "      min_features_to_select=50)"
      ]
     },
     "execution_count": 16,
     "metadata": {},
     "output_type": "execute_result"
    }
   ],
   "source": [
    "selector_RFECV"
   ]
  },
  {
   "cell_type": "code",
   "execution_count": 17,
   "metadata": {},
   "outputs": [
    {
     "data": {
      "text/plain": [
       "array(['baths', 'sqft', 'beds', 'city_is_capital', 'city_is_million',\n",
       "       'city_is_big', 'city_is_large', 'claster', 'distance_capital',\n",
       "       'distance_million', 'firepl', '1_level', '2_level', '3_level',\n",
       "       '4_level', 'multi_level', 'multi_family', 'condo', 'Farms/Ranches',\n",
       "       'Townhouse', 'Single Family Home', 'pool', 'auction',\n",
       "       'foreclosure', 'new', 'school_rating_mean', 'number_school',\n",
       "       'school_distance_mean', 'Year_built', 'lotsize', 'Remodeled',\n",
       "       'forced_air_heating', 'gas_heating', 'electric_heating',\n",
       "       'pump_heating', 'central_heating', 'heat_bool', 'air_conditioner',\n",
       "       'ceiling_fan', 'cool_bool', 'Garage', 'Carport', 'Parking_lot',\n",
       "       'PublicSchoolOverallRanking', 'HDI (2021)', 'Crime Rate'],\n",
       "      dtype=object)"
      ]
     },
     "execution_count": 17,
     "metadata": {},
     "output_type": "execute_result"
    }
   ],
   "source": [
    "feature_names = selector_RFECV.get_feature_names_out()\n",
    "feature_names"
   ]
  },
  {
   "cell_type": "code",
   "execution_count": 18,
   "metadata": {},
   "outputs": [
    {
     "data": {
      "text/plain": [
       "['1_level',\n",
       " '2_level',\n",
       " '3_level',\n",
       " '4_level',\n",
       " 'air_conditioner',\n",
       " 'auction',\n",
       " 'baths',\n",
       " 'beds',\n",
       " 'Carport',\n",
       " 'ceiling_fan',\n",
       " 'central_heating',\n",
       " 'city_is_big',\n",
       " 'city_is_capital',\n",
       " 'city_is_large',\n",
       " 'city_is_million',\n",
       " 'claster',\n",
       " 'condo',\n",
       " 'cool_bool',\n",
       " 'Crime Rate',\n",
       " 'distance_capital',\n",
       " 'distance_million',\n",
       " 'electric_heating',\n",
       " 'Farms/Ranches',\n",
       " 'firepl',\n",
       " 'forced_air_heating',\n",
       " 'foreclosure',\n",
       " 'Garage',\n",
       " 'gas_heating',\n",
       " 'HDI (2021)',\n",
       " 'heat_bool',\n",
       " 'lotsize',\n",
       " 'multi_family',\n",
       " 'multi_level',\n",
       " 'new',\n",
       " 'number_school',\n",
       " 'Parking_lot',\n",
       " 'pool',\n",
       " 'PublicSchoolOverallRanking',\n",
       " 'pump_heating',\n",
       " 'Remodeled',\n",
       " 'school_distance_mean',\n",
       " 'school_rating_mean',\n",
       " 'Single Family Home',\n",
       " 'sqft',\n",
       " 'Townhouse',\n",
       " 'Year_built']"
      ]
     },
     "execution_count": 18,
     "metadata": {},
     "output_type": "execute_result"
    }
   ],
   "source": [
    "sorted(feature_names,key=str.lower)"
   ]
  },
  {
   "cell_type": "code",
   "execution_count": 19,
   "metadata": {},
   "outputs": [],
   "source": [
    "X = df[feature_names]\n",
    "y = df.target\n",
    "X_train, X_tmp, y_train, y_tmp = train_test_split(X, y, train_size=0.5, random_state=random_state)\n",
    "\n",
    "X_val, X_test, y_val, y_test  = train_test_split(X_tmp, y_tmp, train_size=0.5, random_state=random_state)"
   ]
  },
  {
   "cell_type": "code",
   "execution_count": 20,
   "metadata": {},
   "outputs": [
    {
     "name": "stdout",
     "output_type": "stream",
     "text": [
      "mean_absolute_percentage_error  0.23742284458939553\n",
      "mean_absolute_error  66915.00866592067\n",
      "r2_score  0.82098503836017\n"
     ]
    }
   ],
   "source": [
    "model_RFECV = RandomForestRegressor(random_state=random_state,n_jobs=n_jobs,)\n",
    "model_RFECV.fit(X_train,y_train)\n",
    "# # Производим сериализацию и записываем результат в файл формата pkl\n",
    "with open(r'web\\app\\models\\model_RFECV.pkl', 'wb') as output:\n",
    "    pickle.dump(model_RFECV, output)\n",
    "\n",
    "predict = model_RFECV.predict(X_test)\n",
    "print('mean_absolute_percentage_error ',mean_absolute_percentage_error(y_test,predict))\n",
    "print('mean_absolute_error ',mean_absolute_error(y_test,predict))\n",
    "print('r2_score ',r2_score(y_test,predict))\n",
    "\n",
    "# feat_importances = pd.DataFrame(model.feature_importances_, index=X_train.columns, columns=[\"Importance\"]).sort_values('Importance',ascending=False)\n",
    "# px.bar(feat_importances.round(3),text_auto=True)"
   ]
  },
  {
   "cell_type": "code",
   "execution_count": 21,
   "metadata": {},
   "outputs": [
    {
     "name": "stdout",
     "output_type": "stream",
     "text": [
      "mean_absolute_percentage_error  0.23776400710122356\n",
      "mean_absolute_error  67061.35058330509\n",
      "r2_score  0.8179262861482987\n"
     ]
    }
   ],
   "source": [
    "predict = model_RFECV.predict(X_val)\n",
    "print('mean_absolute_percentage_error ',mean_absolute_percentage_error(y_val,predict))\n",
    "print('mean_absolute_error ',mean_absolute_error(y_val,predict))\n",
    "print('r2_score ',r2_score(y_val,predict))"
   ]
  },
  {
   "cell_type": "code",
   "execution_count": 29,
   "metadata": {},
   "outputs": [],
   "source": [
    "def opt_Ext(trial):\n",
    "    # задаем пространство поиска гиперпараметров\n",
    "\n",
    "    n_estimators = trial.suggest_categorical('n_estimators',[20,50,100,200,300,500,700,1000])\n",
    "    min_samples_leaf = trial.suggest_categorical('min_samples_leaf',[1,2,3,4,5,6,7,8,9,10,11,12])\n",
    "    max_depth = trial.suggest_categorical('max_depth',[2,3,4,5,6,7,8,9,10,11,12,15,20,25,30,35,40,50])\n",
    "\n",
    "    # создаем модель\n",
    "    model = RandomForestRegressor(random_state=random_state,n_jobs=n_jobs,\n",
    "                                n_estimators=n_estimators,\n",
    "                                min_samples_leaf=min_samples_leaf,\n",
    "                                max_depth=max_depth,\n",
    "                                )\n",
    "\n",
    "    model.fit(X_train,y_train)\n",
    "    score = mean_absolute_percentage_error(y_val, model.predict(X_val))\n",
    "    return score"
   ]
  },
  {
   "cell_type": "code",
   "execution_count": 31,
   "metadata": {},
   "outputs": [
    {
     "name": "stderr",
     "output_type": "stream",
     "text": [
      "[I 2024-09-11 21:31:37,718] A new study created in memory with name: no-name-8e0f427a-93ac-466b-a94c-815015083fee\n",
      "[I 2024-09-11 21:33:05,219] Trial 0 finished with value: 0.25176934541174656 and parameters: {'n_estimators': 500, 'min_samples_leaf': 2, 'max_depth': 20}. Best is trial 0 with value: 0.25176934541174656.\n",
      "[I 2024-09-11 21:33:50,785] Trial 1 finished with value: 0.4810111197406887 and parameters: {'n_estimators': 1000, 'min_samples_leaf': 4, 'max_depth': 6}. Best is trial 0 with value: 0.25176934541174656.\n",
      "[I 2024-09-11 21:33:51,691] Trial 2 finished with value: 0.5127446529929911 and parameters: {'n_estimators': 20, 'min_samples_leaf': 2, 'max_depth': 5}. Best is trial 0 with value: 0.25176934541174656.\n",
      "[I 2024-09-11 21:34:05,324] Trial 3 finished with value: 0.4808830241143102 and parameters: {'n_estimators': 300, 'min_samples_leaf': 8, 'max_depth': 6}. Best is trial 0 with value: 0.25176934541174656.\n",
      "[I 2024-09-11 21:34:07,842] Trial 4 finished with value: 0.298309404342398 and parameters: {'n_estimators': 20, 'min_samples_leaf': 8, 'max_depth': 15}. Best is trial 0 with value: 0.25176934541174656.\n",
      "[I 2024-09-11 21:34:14,885] Trial 5 finished with value: 0.3963927425194845 and parameters: {'n_estimators': 100, 'min_samples_leaf': 12, 'max_depth': 9}. Best is trial 0 with value: 0.25176934541174656.\n",
      "[I 2024-09-11 21:34:17,088] Trial 6 finished with value: 0.33472459889417217 and parameters: {'n_estimators': 20, 'min_samples_leaf': 3, 'max_depth': 12}. Best is trial 0 with value: 0.25176934541174656.\n",
      "[I 2024-09-11 21:35:14,179] Trial 7 finished with value: 0.37079628682509536 and parameters: {'n_estimators': 700, 'min_samples_leaf': 8, 'max_depth': 10}. Best is trial 0 with value: 0.25176934541174656.\n",
      "[I 2024-09-11 21:35:33,103] Trial 8 finished with value: 0.334505027887718 and parameters: {'n_estimators': 200, 'min_samples_leaf': 11, 'max_depth': 12}. Best is trial 0 with value: 0.25176934541174656.\n",
      "[I 2024-09-11 21:35:41,404] Trial 9 finished with value: 0.2630060762057574 and parameters: {'n_estimators': 50, 'min_samples_leaf': 8, 'max_depth': 50}. Best is trial 0 with value: 0.25176934541174656.\n",
      "[I 2024-09-11 21:37:06,949] Trial 10 finished with value: 0.25176934541174656 and parameters: {'n_estimators': 500, 'min_samples_leaf': 2, 'max_depth': 20}. Best is trial 0 with value: 0.25176934541174656.\n",
      "[I 2024-09-11 21:38:33,326] Trial 11 finished with value: 0.25176934541174656 and parameters: {'n_estimators': 500, 'min_samples_leaf': 2, 'max_depth': 20}. Best is trial 0 with value: 0.25176934541174656.\n",
      "[I 2024-09-11 21:39:57,612] Trial 12 finished with value: 0.25176934541174656 and parameters: {'n_estimators': 500, 'min_samples_leaf': 2, 'max_depth': 20}. Best is trial 0 with value: 0.25176934541174656.\n",
      "[I 2024-09-11 21:41:16,848] Trial 13 finished with value: 0.2505222896315871 and parameters: {'n_estimators': 500, 'min_samples_leaf': 5, 'max_depth': 35}. Best is trial 13 with value: 0.2505222896315871.\n",
      "[I 2024-09-11 21:42:38,038] Trial 14 finished with value: 0.2505222896315871 and parameters: {'n_estimators': 500, 'min_samples_leaf': 5, 'max_depth': 35}. Best is trial 13 with value: 0.2505222896315871.\n",
      "[I 2024-09-11 21:43:58,635] Trial 15 finished with value: 0.2505222896315871 and parameters: {'n_estimators': 500, 'min_samples_leaf': 5, 'max_depth': 35}. Best is trial 13 with value: 0.2505222896315871.\n",
      "[I 2024-09-11 21:45:54,329] Trial 16 finished with value: 0.2505582663294034 and parameters: {'n_estimators': 700, 'min_samples_leaf': 5, 'max_depth': 35}. Best is trial 13 with value: 0.2505222896315871.\n",
      "[I 2024-09-11 21:46:26,937] Trial 17 finished with value: 0.25074376204160803 and parameters: {'n_estimators': 200, 'min_samples_leaf': 5, 'max_depth': 35}. Best is trial 13 with value: 0.2505222896315871.\n",
      "[I 2024-09-11 21:46:33,669] Trial 18 finished with value: 0.6219599353656675 and parameters: {'n_estimators': 300, 'min_samples_leaf': 6, 'max_depth': 3}. Best is trial 13 with value: 0.2505222896315871.\n",
      "[I 2024-09-11 21:49:11,468] Trial 19 finished with value: 0.2581176012385599 and parameters: {'n_estimators': 1000, 'min_samples_leaf': 7, 'max_depth': 30}. Best is trial 13 with value: 0.2505222896315871.\n",
      "[I 2024-09-11 21:49:41,614] Trial 20 finished with value: 0.23781057144208154 and parameters: {'n_estimators': 100, 'min_samples_leaf': 1, 'max_depth': 40}. Best is trial 20 with value: 0.23781057144208154.\n",
      "[I 2024-09-11 21:49:55,929] Trial 21 finished with value: 0.2683122013726964 and parameters: {'n_estimators': 100, 'min_samples_leaf': 10, 'max_depth': 40}. Best is trial 20 with value: 0.23781057144208154.\n",
      "[I 2024-09-11 21:49:59,032] Trial 22 finished with value: 0.5584652281956698 and parameters: {'n_estimators': 100, 'min_samples_leaf': 1, 'max_depth': 4}. Best is trial 20 with value: 0.23781057144208154.\n",
      "[I 2024-09-11 21:50:03,729] Trial 23 finished with value: 0.35180087089217504 and parameters: {'n_estimators': 50, 'min_samples_leaf': 9, 'max_depth': 11}. Best is trial 20 with value: 0.23781057144208154.\n",
      "[I 2024-09-11 21:50:28,249] Trial 24 finished with value: 0.24093030805350948 and parameters: {'n_estimators': 100, 'min_samples_leaf': 1, 'max_depth': 25}. Best is trial 20 with value: 0.23781057144208154.\n",
      "[I 2024-09-11 21:50:55,196] Trial 25 finished with value: 0.24093030805350948 and parameters: {'n_estimators': 100, 'min_samples_leaf': 1, 'max_depth': 25}. Best is trial 20 with value: 0.23781057144208154.\n",
      "[I 2024-09-11 21:51:19,600] Trial 26 finished with value: 0.24093030805350948 and parameters: {'n_estimators': 100, 'min_samples_leaf': 1, 'max_depth': 25}. Best is trial 20 with value: 0.23781057144208154.\n",
      "[I 2024-09-11 21:51:43,332] Trial 27 finished with value: 0.24093030805350948 and parameters: {'n_estimators': 100, 'min_samples_leaf': 1, 'max_depth': 25}. Best is trial 20 with value: 0.23781057144208154.\n",
      "[I 2024-09-11 21:51:44,817] Trial 28 finished with value: 0.6827746428080942 and parameters: {'n_estimators': 100, 'min_samples_leaf': 1, 'max_depth': 2}. Best is trial 20 with value: 0.23781057144208154.\n",
      "[I 2024-09-11 21:51:50,167] Trial 29 finished with value: 0.45113972610581105 and parameters: {'n_estimators': 100, 'min_samples_leaf': 1, 'max_depth': 7}. Best is trial 20 with value: 0.23781057144208154.\n",
      "[I 2024-09-11 21:52:13,552] Trial 30 finished with value: 0.24093030805350948 and parameters: {'n_estimators': 100, 'min_samples_leaf': 1, 'max_depth': 25}. Best is trial 20 with value: 0.23781057144208154.\n",
      "[I 2024-09-11 21:52:37,626] Trial 31 finished with value: 0.24093030805350948 and parameters: {'n_estimators': 100, 'min_samples_leaf': 1, 'max_depth': 25}. Best is trial 20 with value: 0.23781057144208154.\n",
      "[I 2024-09-11 21:52:44,034] Trial 32 finished with value: 0.4234142666243937 and parameters: {'n_estimators': 100, 'min_samples_leaf': 1, 'max_depth': 8}. Best is trial 20 with value: 0.23781057144208154.\n",
      "[I 2024-09-11 21:53:02,464] Trial 33 finished with value: 0.2469280420578307 and parameters: {'n_estimators': 100, 'min_samples_leaf': 4, 'max_depth': 40}. Best is trial 20 with value: 0.23781057144208154.\n",
      "[I 2024-09-11 21:56:59,823] Trial 34 finished with value: 0.23977978814089443 and parameters: {'n_estimators': 1000, 'min_samples_leaf': 1, 'max_depth': 25}. Best is trial 20 with value: 0.23781057144208154.\n",
      "[I 2024-09-11 22:01:06,296] Trial 35 finished with value: 0.23977978814089443 and parameters: {'n_estimators': 1000, 'min_samples_leaf': 1, 'max_depth': 25}. Best is trial 20 with value: 0.23781057144208154.\n",
      "[I 2024-09-11 22:01:42,902] Trial 36 finished with value: 0.5122364959988079 and parameters: {'n_estimators': 1000, 'min_samples_leaf': 12, 'max_depth': 5}. Best is trial 20 with value: 0.23781057144208154.\n",
      "[I 2024-09-11 22:04:49,955] Trial 37 finished with value: 0.24190836562196427 and parameters: {'n_estimators': 1000, 'min_samples_leaf': 3, 'max_depth': 40}. Best is trial 20 with value: 0.23781057144208154.\n",
      "[I 2024-09-11 22:06:40,809] Trial 38 finished with value: 0.2974970595849819 and parameters: {'n_estimators': 1000, 'min_samples_leaf': 10, 'max_depth': 15}. Best is trial 20 with value: 0.23781057144208154.\n",
      "[I 2024-09-11 22:07:25,561] Trial 39 finished with value: 0.4810093488483554 and parameters: {'n_estimators': 1000, 'min_samples_leaf': 11, 'max_depth': 6}. Best is trial 20 with value: 0.23781057144208154.\n",
      "[I 2024-09-11 22:09:41,765] Trial 40 finished with value: 0.26495046594482297 and parameters: {'n_estimators': 1000, 'min_samples_leaf': 9, 'max_depth': 25}. Best is trial 20 with value: 0.23781057144208154.\n",
      "[I 2024-09-11 22:09:47,365] Trial 41 finished with value: 0.2467680750619512 and parameters: {'n_estimators': 20, 'min_samples_leaf': 1, 'max_depth': 25}. Best is trial 20 with value: 0.23781057144208154.\n",
      "[I 2024-09-11 22:10:57,284] Trial 42 finished with value: 0.3959050982461052 and parameters: {'n_estimators': 1000, 'min_samples_leaf': 1, 'max_depth': 9}. Best is trial 20 with value: 0.23781057144208154.\n",
      "[I 2024-09-11 22:11:42,636] Trial 43 finished with value: 0.2550172386051599 and parameters: {'n_estimators': 300, 'min_samples_leaf': 6, 'max_depth': 25}. Best is trial 20 with value: 0.23781057144208154.\n",
      "[I 2024-09-11 22:12:36,954] Trial 44 finished with value: 0.3706914760270028 and parameters: {'n_estimators': 700, 'min_samples_leaf': 7, 'max_depth': 10}. Best is trial 20 with value: 0.23781057144208154.\n",
      "[I 2024-09-11 22:13:31,106] Trial 45 finished with value: 0.23711220368763944 and parameters: {'n_estimators': 200, 'min_samples_leaf': 1, 'max_depth': 50}. Best is trial 45 with value: 0.23711220368763944.\n",
      "[I 2024-09-11 22:14:05,307] Trial 46 finished with value: 0.24658692913969932 and parameters: {'n_estimators': 200, 'min_samples_leaf': 4, 'max_depth': 50}. Best is trial 45 with value: 0.23711220368763944.\n",
      "[I 2024-09-11 22:15:04,712] Trial 47 finished with value: 0.23711220368763944 and parameters: {'n_estimators': 200, 'min_samples_leaf': 1, 'max_depth': 50}. Best is trial 45 with value: 0.23711220368763944.\n",
      "[I 2024-09-11 22:15:34,115] Trial 48 finished with value: 0.27324656977125145 and parameters: {'n_estimators': 200, 'min_samples_leaf': 12, 'max_depth': 50}. Best is trial 45 with value: 0.23711220368763944.\n",
      "[I 2024-09-11 22:16:12,994] Trial 49 finished with value: 0.2423651031103835 and parameters: {'n_estimators': 200, 'min_samples_leaf': 3, 'max_depth': 50}. Best is trial 45 with value: 0.23711220368763944.\n"
     ]
    }
   ],
   "source": [
    "# cоздаем объект исследования\n",
    "# можем напрямую указать, что нам необходимо минимизировать метрику direction=\"minimize\"\n",
    "stud = optuna.create_study(direction=\"minimize\")\n",
    "\n",
    "\n",
    "# ищем лучшую комбинацию гиперпараметров\n",
    "stud.optimize(opt_Ext, n_trials=50)"
   ]
  },
  {
   "cell_type": "code",
   "execution_count": 32,
   "metadata": {},
   "outputs": [],
   "source": [
    "# # Производим сериализацию и записываем результат в файл формата pkl\n",
    "with open(r'web\\app\\models\\stud.pkl', 'wb') as output:\n",
    "    pickle.dump(stud, output)"
   ]
  },
  {
   "cell_type": "code",
   "execution_count": 33,
   "metadata": {},
   "outputs": [
    {
     "name": "stdout",
     "output_type": "stream",
     "text": [
      "{'n_estimators': 200, 'min_samples_leaf': 1, 'max_depth': 50}\n"
     ]
    }
   ],
   "source": [
    "print(stud.best_params)"
   ]
  },
  {
   "cell_type": "code",
   "execution_count": 34,
   "metadata": {},
   "outputs": [],
   "source": [
    "# # рассчитаем точность для тестовой выборки\n",
    "best_model = RandomForestRegressor(random_state=random_state,n_jobs=n_jobs,\n",
    "                                   n_estimators=stud.best_params['n_estimators'],\n",
    "                                   min_samples_leaf=stud.best_params['min_samples_leaf'],\n",
    "                                   max_depth=stud.best_params['max_depth'],\n",
    "                                   )\n",
    "\n",
    "\n",
    "best_model.fit(X_train,y_train)\n",
    "\n",
    "# # Производим сериализацию и записываем результат в файл формата pkl\n",
    "with open(r'web\\app\\models\\best_model.pkl', 'wb') as output:\n",
    "    pickle.dump(best_model, output)"
   ]
  },
  {
   "cell_type": "code",
   "execution_count": 35,
   "metadata": {},
   "outputs": [
    {
     "name": "stdout",
     "output_type": "stream",
     "text": [
      "mean_absolute_percentage_error  0.23677637934675158\n",
      "mean_absolute_error  66592.26597365996\n",
      "r2_score  0.8226132589793766\n"
     ]
    },
    {
     "data": {
      "application/vnd.plotly.v1+json": {
       "config": {
        "plotlyServerURL": "https://plot.ly"
       },
       "data": [
        {
         "alignmentgroup": "True",
         "hovertemplate": "variable=Importance<br>index=%{x}<br>value=%{y}<extra></extra>",
         "legendgroup": "Importance",
         "marker": {
          "color": "#636efa",
          "pattern": {
           "shape": ""
          }
         },
         "name": "Importance",
         "offsetgroup": "Importance",
         "orientation": "v",
         "showlegend": true,
         "textposition": "auto",
         "texttemplate": "%{y}",
         "type": "bar",
         "x": [
          "baths",
          "distance_million",
          "HDI (2021)",
          "lotsize",
          "sqft",
          "distance_capital",
          "Year_built",
          "school_rating_mean",
          "school_distance_mean",
          "claster",
          "PublicSchoolOverallRanking",
          "beds",
          "Crime Rate",
          "condo",
          "city_is_big",
          "number_school",
          "pool",
          "Single Family Home",
          "firepl",
          "Remodeled",
          "multi_level",
          "Garage",
          "forced_air_heating",
          "3_level",
          "central_heating",
          "cool_bool",
          "city_is_large",
          "Townhouse",
          "Carport",
          "heat_bool",
          "electric_heating",
          "pump_heating",
          "1_level",
          "multi_family",
          "2_level",
          "foreclosure",
          "city_is_million",
          "city_is_capital",
          "gas_heating",
          "Farms/Ranches",
          "air_conditioner",
          "4_level",
          "new",
          "Parking_lot",
          "ceiling_fan",
          "auction"
         ],
         "xaxis": "x",
         "y": [
          0.162,
          0.16,
          0.138,
          0.095,
          0.084,
          0.071,
          0.057,
          0.05,
          0.032,
          0.021,
          0.017,
          0.014,
          0.011,
          0.01,
          0.01,
          0.007,
          0.005,
          0.004,
          0.004,
          0.004,
          0.004,
          0.004,
          0.003,
          0.003,
          0.003,
          0.003,
          0.003,
          0.002,
          0.002,
          0.002,
          0.002,
          0.002,
          0.001,
          0.001,
          0.001,
          0.001,
          0.001,
          0.001,
          0.001,
          0.001,
          0.001,
          0.001,
          0.001,
          0.001,
          0,
          0
         ],
         "yaxis": "y"
        }
       ],
       "layout": {
        "barmode": "relative",
        "legend": {
         "title": {
          "text": "variable"
         },
         "tracegroupgap": 0
        },
        "margin": {
         "t": 60
        },
        "template": {
         "data": {
          "bar": [
           {
            "error_x": {
             "color": "#2a3f5f"
            },
            "error_y": {
             "color": "#2a3f5f"
            },
            "marker": {
             "line": {
              "color": "#E5ECF6",
              "width": 0.5
             },
             "pattern": {
              "fillmode": "overlay",
              "size": 10,
              "solidity": 0.2
             }
            },
            "type": "bar"
           }
          ],
          "barpolar": [
           {
            "marker": {
             "line": {
              "color": "#E5ECF6",
              "width": 0.5
             },
             "pattern": {
              "fillmode": "overlay",
              "size": 10,
              "solidity": 0.2
             }
            },
            "type": "barpolar"
           }
          ],
          "carpet": [
           {
            "aaxis": {
             "endlinecolor": "#2a3f5f",
             "gridcolor": "white",
             "linecolor": "white",
             "minorgridcolor": "white",
             "startlinecolor": "#2a3f5f"
            },
            "baxis": {
             "endlinecolor": "#2a3f5f",
             "gridcolor": "white",
             "linecolor": "white",
             "minorgridcolor": "white",
             "startlinecolor": "#2a3f5f"
            },
            "type": "carpet"
           }
          ],
          "choropleth": [
           {
            "colorbar": {
             "outlinewidth": 0,
             "ticks": ""
            },
            "type": "choropleth"
           }
          ],
          "contour": [
           {
            "colorbar": {
             "outlinewidth": 0,
             "ticks": ""
            },
            "colorscale": [
             [
              0,
              "#0d0887"
             ],
             [
              0.1111111111111111,
              "#46039f"
             ],
             [
              0.2222222222222222,
              "#7201a8"
             ],
             [
              0.3333333333333333,
              "#9c179e"
             ],
             [
              0.4444444444444444,
              "#bd3786"
             ],
             [
              0.5555555555555556,
              "#d8576b"
             ],
             [
              0.6666666666666666,
              "#ed7953"
             ],
             [
              0.7777777777777778,
              "#fb9f3a"
             ],
             [
              0.8888888888888888,
              "#fdca26"
             ],
             [
              1,
              "#f0f921"
             ]
            ],
            "type": "contour"
           }
          ],
          "contourcarpet": [
           {
            "colorbar": {
             "outlinewidth": 0,
             "ticks": ""
            },
            "type": "contourcarpet"
           }
          ],
          "heatmap": [
           {
            "colorbar": {
             "outlinewidth": 0,
             "ticks": ""
            },
            "colorscale": [
             [
              0,
              "#0d0887"
             ],
             [
              0.1111111111111111,
              "#46039f"
             ],
             [
              0.2222222222222222,
              "#7201a8"
             ],
             [
              0.3333333333333333,
              "#9c179e"
             ],
             [
              0.4444444444444444,
              "#bd3786"
             ],
             [
              0.5555555555555556,
              "#d8576b"
             ],
             [
              0.6666666666666666,
              "#ed7953"
             ],
             [
              0.7777777777777778,
              "#fb9f3a"
             ],
             [
              0.8888888888888888,
              "#fdca26"
             ],
             [
              1,
              "#f0f921"
             ]
            ],
            "type": "heatmap"
           }
          ],
          "heatmapgl": [
           {
            "colorbar": {
             "outlinewidth": 0,
             "ticks": ""
            },
            "colorscale": [
             [
              0,
              "#0d0887"
             ],
             [
              0.1111111111111111,
              "#46039f"
             ],
             [
              0.2222222222222222,
              "#7201a8"
             ],
             [
              0.3333333333333333,
              "#9c179e"
             ],
             [
              0.4444444444444444,
              "#bd3786"
             ],
             [
              0.5555555555555556,
              "#d8576b"
             ],
             [
              0.6666666666666666,
              "#ed7953"
             ],
             [
              0.7777777777777778,
              "#fb9f3a"
             ],
             [
              0.8888888888888888,
              "#fdca26"
             ],
             [
              1,
              "#f0f921"
             ]
            ],
            "type": "heatmapgl"
           }
          ],
          "histogram": [
           {
            "marker": {
             "pattern": {
              "fillmode": "overlay",
              "size": 10,
              "solidity": 0.2
             }
            },
            "type": "histogram"
           }
          ],
          "histogram2d": [
           {
            "colorbar": {
             "outlinewidth": 0,
             "ticks": ""
            },
            "colorscale": [
             [
              0,
              "#0d0887"
             ],
             [
              0.1111111111111111,
              "#46039f"
             ],
             [
              0.2222222222222222,
              "#7201a8"
             ],
             [
              0.3333333333333333,
              "#9c179e"
             ],
             [
              0.4444444444444444,
              "#bd3786"
             ],
             [
              0.5555555555555556,
              "#d8576b"
             ],
             [
              0.6666666666666666,
              "#ed7953"
             ],
             [
              0.7777777777777778,
              "#fb9f3a"
             ],
             [
              0.8888888888888888,
              "#fdca26"
             ],
             [
              1,
              "#f0f921"
             ]
            ],
            "type": "histogram2d"
           }
          ],
          "histogram2dcontour": [
           {
            "colorbar": {
             "outlinewidth": 0,
             "ticks": ""
            },
            "colorscale": [
             [
              0,
              "#0d0887"
             ],
             [
              0.1111111111111111,
              "#46039f"
             ],
             [
              0.2222222222222222,
              "#7201a8"
             ],
             [
              0.3333333333333333,
              "#9c179e"
             ],
             [
              0.4444444444444444,
              "#bd3786"
             ],
             [
              0.5555555555555556,
              "#d8576b"
             ],
             [
              0.6666666666666666,
              "#ed7953"
             ],
             [
              0.7777777777777778,
              "#fb9f3a"
             ],
             [
              0.8888888888888888,
              "#fdca26"
             ],
             [
              1,
              "#f0f921"
             ]
            ],
            "type": "histogram2dcontour"
           }
          ],
          "mesh3d": [
           {
            "colorbar": {
             "outlinewidth": 0,
             "ticks": ""
            },
            "type": "mesh3d"
           }
          ],
          "parcoords": [
           {
            "line": {
             "colorbar": {
              "outlinewidth": 0,
              "ticks": ""
             }
            },
            "type": "parcoords"
           }
          ],
          "pie": [
           {
            "automargin": true,
            "type": "pie"
           }
          ],
          "scatter": [
           {
            "fillpattern": {
             "fillmode": "overlay",
             "size": 10,
             "solidity": 0.2
            },
            "type": "scatter"
           }
          ],
          "scatter3d": [
           {
            "line": {
             "colorbar": {
              "outlinewidth": 0,
              "ticks": ""
             }
            },
            "marker": {
             "colorbar": {
              "outlinewidth": 0,
              "ticks": ""
             }
            },
            "type": "scatter3d"
           }
          ],
          "scattercarpet": [
           {
            "marker": {
             "colorbar": {
              "outlinewidth": 0,
              "ticks": ""
             }
            },
            "type": "scattercarpet"
           }
          ],
          "scattergeo": [
           {
            "marker": {
             "colorbar": {
              "outlinewidth": 0,
              "ticks": ""
             }
            },
            "type": "scattergeo"
           }
          ],
          "scattergl": [
           {
            "marker": {
             "colorbar": {
              "outlinewidth": 0,
              "ticks": ""
             }
            },
            "type": "scattergl"
           }
          ],
          "scattermapbox": [
           {
            "marker": {
             "colorbar": {
              "outlinewidth": 0,
              "ticks": ""
             }
            },
            "type": "scattermapbox"
           }
          ],
          "scatterpolar": [
           {
            "marker": {
             "colorbar": {
              "outlinewidth": 0,
              "ticks": ""
             }
            },
            "type": "scatterpolar"
           }
          ],
          "scatterpolargl": [
           {
            "marker": {
             "colorbar": {
              "outlinewidth": 0,
              "ticks": ""
             }
            },
            "type": "scatterpolargl"
           }
          ],
          "scatterternary": [
           {
            "marker": {
             "colorbar": {
              "outlinewidth": 0,
              "ticks": ""
             }
            },
            "type": "scatterternary"
           }
          ],
          "surface": [
           {
            "colorbar": {
             "outlinewidth": 0,
             "ticks": ""
            },
            "colorscale": [
             [
              0,
              "#0d0887"
             ],
             [
              0.1111111111111111,
              "#46039f"
             ],
             [
              0.2222222222222222,
              "#7201a8"
             ],
             [
              0.3333333333333333,
              "#9c179e"
             ],
             [
              0.4444444444444444,
              "#bd3786"
             ],
             [
              0.5555555555555556,
              "#d8576b"
             ],
             [
              0.6666666666666666,
              "#ed7953"
             ],
             [
              0.7777777777777778,
              "#fb9f3a"
             ],
             [
              0.8888888888888888,
              "#fdca26"
             ],
             [
              1,
              "#f0f921"
             ]
            ],
            "type": "surface"
           }
          ],
          "table": [
           {
            "cells": {
             "fill": {
              "color": "#EBF0F8"
             },
             "line": {
              "color": "white"
             }
            },
            "header": {
             "fill": {
              "color": "#C8D4E3"
             },
             "line": {
              "color": "white"
             }
            },
            "type": "table"
           }
          ]
         },
         "layout": {
          "annotationdefaults": {
           "arrowcolor": "#2a3f5f",
           "arrowhead": 0,
           "arrowwidth": 1
          },
          "autotypenumbers": "strict",
          "coloraxis": {
           "colorbar": {
            "outlinewidth": 0,
            "ticks": ""
           }
          },
          "colorscale": {
           "diverging": [
            [
             0,
             "#8e0152"
            ],
            [
             0.1,
             "#c51b7d"
            ],
            [
             0.2,
             "#de77ae"
            ],
            [
             0.3,
             "#f1b6da"
            ],
            [
             0.4,
             "#fde0ef"
            ],
            [
             0.5,
             "#f7f7f7"
            ],
            [
             0.6,
             "#e6f5d0"
            ],
            [
             0.7,
             "#b8e186"
            ],
            [
             0.8,
             "#7fbc41"
            ],
            [
             0.9,
             "#4d9221"
            ],
            [
             1,
             "#276419"
            ]
           ],
           "sequential": [
            [
             0,
             "#0d0887"
            ],
            [
             0.1111111111111111,
             "#46039f"
            ],
            [
             0.2222222222222222,
             "#7201a8"
            ],
            [
             0.3333333333333333,
             "#9c179e"
            ],
            [
             0.4444444444444444,
             "#bd3786"
            ],
            [
             0.5555555555555556,
             "#d8576b"
            ],
            [
             0.6666666666666666,
             "#ed7953"
            ],
            [
             0.7777777777777778,
             "#fb9f3a"
            ],
            [
             0.8888888888888888,
             "#fdca26"
            ],
            [
             1,
             "#f0f921"
            ]
           ],
           "sequentialminus": [
            [
             0,
             "#0d0887"
            ],
            [
             0.1111111111111111,
             "#46039f"
            ],
            [
             0.2222222222222222,
             "#7201a8"
            ],
            [
             0.3333333333333333,
             "#9c179e"
            ],
            [
             0.4444444444444444,
             "#bd3786"
            ],
            [
             0.5555555555555556,
             "#d8576b"
            ],
            [
             0.6666666666666666,
             "#ed7953"
            ],
            [
             0.7777777777777778,
             "#fb9f3a"
            ],
            [
             0.8888888888888888,
             "#fdca26"
            ],
            [
             1,
             "#f0f921"
            ]
           ]
          },
          "colorway": [
           "#636efa",
           "#EF553B",
           "#00cc96",
           "#ab63fa",
           "#FFA15A",
           "#19d3f3",
           "#FF6692",
           "#B6E880",
           "#FF97FF",
           "#FECB52"
          ],
          "font": {
           "color": "#2a3f5f"
          },
          "geo": {
           "bgcolor": "white",
           "lakecolor": "white",
           "landcolor": "#E5ECF6",
           "showlakes": true,
           "showland": true,
           "subunitcolor": "white"
          },
          "hoverlabel": {
           "align": "left"
          },
          "hovermode": "closest",
          "mapbox": {
           "style": "light"
          },
          "paper_bgcolor": "white",
          "plot_bgcolor": "#E5ECF6",
          "polar": {
           "angularaxis": {
            "gridcolor": "white",
            "linecolor": "white",
            "ticks": ""
           },
           "bgcolor": "#E5ECF6",
           "radialaxis": {
            "gridcolor": "white",
            "linecolor": "white",
            "ticks": ""
           }
          },
          "scene": {
           "xaxis": {
            "backgroundcolor": "#E5ECF6",
            "gridcolor": "white",
            "gridwidth": 2,
            "linecolor": "white",
            "showbackground": true,
            "ticks": "",
            "zerolinecolor": "white"
           },
           "yaxis": {
            "backgroundcolor": "#E5ECF6",
            "gridcolor": "white",
            "gridwidth": 2,
            "linecolor": "white",
            "showbackground": true,
            "ticks": "",
            "zerolinecolor": "white"
           },
           "zaxis": {
            "backgroundcolor": "#E5ECF6",
            "gridcolor": "white",
            "gridwidth": 2,
            "linecolor": "white",
            "showbackground": true,
            "ticks": "",
            "zerolinecolor": "white"
           }
          },
          "shapedefaults": {
           "line": {
            "color": "#2a3f5f"
           }
          },
          "ternary": {
           "aaxis": {
            "gridcolor": "white",
            "linecolor": "white",
            "ticks": ""
           },
           "baxis": {
            "gridcolor": "white",
            "linecolor": "white",
            "ticks": ""
           },
           "bgcolor": "#E5ECF6",
           "caxis": {
            "gridcolor": "white",
            "linecolor": "white",
            "ticks": ""
           }
          },
          "title": {
           "x": 0.05
          },
          "xaxis": {
           "automargin": true,
           "gridcolor": "white",
           "linecolor": "white",
           "ticks": "",
           "title": {
            "standoff": 15
           },
           "zerolinecolor": "white",
           "zerolinewidth": 2
          },
          "yaxis": {
           "automargin": true,
           "gridcolor": "white",
           "linecolor": "white",
           "ticks": "",
           "title": {
            "standoff": 15
           },
           "zerolinecolor": "white",
           "zerolinewidth": 2
          }
         }
        },
        "xaxis": {
         "anchor": "y",
         "domain": [
          0,
          1
         ],
         "title": {
          "text": "index"
         }
        },
        "yaxis": {
         "anchor": "x",
         "domain": [
          0,
          1
         ],
         "title": {
          "text": "value"
         }
        }
       }
      }
     },
     "metadata": {},
     "output_type": "display_data"
    }
   ],
   "source": [
    "predict = best_model.predict(X_test)\n",
    "print('mean_absolute_percentage_error ',mean_absolute_percentage_error(y_test,predict))\n",
    "print('mean_absolute_error ',mean_absolute_error(y_test,predict))\n",
    "print('r2_score ',r2_score(y_test,predict))\n",
    "# print('mean_absolute_error_$' ,trans_target.inverse_transform(np.array(mean_absolute_error(y_test,predict)).reshape(-1, 1)))\n",
    "\n",
    "\n",
    "feat_importances = pd.DataFrame(best_model.feature_importances_, index=X_train.columns, columns=[\"Importance\"]).sort_values('Importance',ascending=False)\n",
    "px.bar(feat_importances.round(3),text_auto=True)"
   ]
  },
  {
   "cell_type": "code",
   "execution_count": 36,
   "metadata": {},
   "outputs": [],
   "source": [
    "def opt_Ext_cv(trial):\n",
    "    # задаем пространство поиска гиперпараметров\n",
    "\n",
    "    n_estimators = trial.suggest_categorical('n_estimators',[20,50,100,200,300,500,700,1000])\n",
    "    min_samples_leaf = trial.suggest_categorical('min_samples_leaf',[1,2,3,4,5,6,7,8,9,10,11,12,13,14,15])\n",
    "    max_depth = trial.suggest_categorical('max_depth',[2,3,4,5,6,7,8,9,10,11,12,15,20,25,30,35,40,50])\n",
    "\n",
    "    # создаем модель\n",
    "    model = RandomForestRegressor(random_state=random_state,n_jobs=n_jobs,\n",
    "                                n_estimators=n_estimators,\n",
    "                                min_samples_leaf=min_samples_leaf,\n",
    "                                max_depth=max_depth,\n",
    "                                )\n",
    "\n",
    "    model.fit(X,y)\n",
    "\n",
    "    score = -np.mean(cross_val_score(estimator=model, X=X, y=y,\n",
    "                            scoring='neg_mean_absolute_percentage_error',\n",
    "                            cv=5,\n",
    "                            n_jobs=n_jobs))\n",
    "\n",
    "    return score"
   ]
  },
  {
   "cell_type": "code",
   "execution_count": 37,
   "metadata": {},
   "outputs": [
    {
     "name": "stderr",
     "output_type": "stream",
     "text": [
      "[I 2024-09-11 22:17:11,425] A new study created in memory with name: no-name-1512c532-ec1e-4642-83a8-31b5af93866f\n",
      "[I 2024-09-11 22:19:59,255] Trial 0 finished with value: 0.2458069512239871 and parameters: {'n_estimators': 100, 'min_samples_leaf': 9, 'max_depth': 40}. Best is trial 0 with value: 0.2458069512239871.\n",
      "[I 2024-09-11 22:44:47,594] Trial 1 finished with value: 0.21788616982679657 and parameters: {'n_estimators': 700, 'min_samples_leaf': 2, 'max_depth': 50}. Best is trial 1 with value: 0.21788616982679657.\n",
      "[I 2024-09-11 22:45:22,401] Trial 2 finished with value: 0.23673216824417587 and parameters: {'n_estimators': 20, 'min_samples_leaf': 5, 'max_depth': 25}. Best is trial 1 with value: 0.21788616982679657.\n",
      "[I 2024-09-11 22:48:55,312] Trial 3 finished with value: 0.4226073792261942 and parameters: {'n_estimators': 300, 'min_samples_leaf': 2, 'max_depth': 8}. Best is trial 1 with value: 0.21788616982679657.\n",
      "[I 2024-09-11 23:00:09,933] Trial 4 finished with value: 0.26062749798486845 and parameters: {'n_estimators': 500, 'min_samples_leaf': 15, 'max_depth': 30}. Best is trial 1 with value: 0.21788616982679657.\n",
      "[I 2024-09-11 23:07:26,822] Trial 5 finished with value: 0.5111386579430348 and parameters: {'n_estimators': 1000, 'min_samples_leaf': 14, 'max_depth': 5}. Best is trial 1 with value: 0.21788616982679657.\n",
      "[I 2024-09-11 23:16:12,409] Trial 6 finished with value: 0.48101987539490665 and parameters: {'n_estimators': 1000, 'min_samples_leaf': 6, 'max_depth': 6}. Best is trial 1 with value: 0.21788616982679657.\n",
      "[I 2024-09-11 23:19:16,570] Trial 7 finished with value: 0.6171963450877687 and parameters: {'n_estimators': 700, 'min_samples_leaf': 11, 'max_depth': 3}. Best is trial 1 with value: 0.21788616982679657.\n",
      "[I 2024-09-11 23:27:08,699] Trial 8 finished with value: 0.34714574947573107 and parameters: {'n_estimators': 500, 'min_samples_leaf': 10, 'max_depth': 11}. Best is trial 1 with value: 0.21788616982679657.\n",
      "[I 2024-09-11 23:42:55,003] Trial 9 finished with value: 0.2606563348436231 and parameters: {'n_estimators': 700, 'min_samples_leaf': 15, 'max_depth': 30}. Best is trial 1 with value: 0.21788616982679657.\n",
      "[I 2024-09-11 23:49:46,157] Trial 10 finished with value: 0.21829598098969613 and parameters: {'n_estimators': 200, 'min_samples_leaf': 2, 'max_depth': 50}. Best is trial 1 with value: 0.21788616982679657.\n",
      "[I 2024-09-11 23:54:03,442] Trial 11 finished with value: 0.28030703140047114 and parameters: {'n_estimators': 200, 'min_samples_leaf': 2, 'max_depth': 15}. Best is trial 1 with value: 0.21788616982679657.\n",
      "[I 2024-09-11 23:55:50,468] Trial 12 finished with value: 0.2202457540439445 and parameters: {'n_estimators': 50, 'min_samples_leaf': 2, 'max_depth': 50}. Best is trial 1 with value: 0.21788616982679657.\n",
      "[I 2024-09-12 00:00:59,104] Trial 13 finished with value: 0.23889987078359484 and parameters: {'n_estimators': 200, 'min_samples_leaf': 7, 'max_depth': 50}. Best is trial 1 with value: 0.21788616982679657.\n",
      "[I 2024-09-12 00:07:08,579] Trial 14 finished with value: 0.22234137264809267 and parameters: {'n_estimators': 200, 'min_samples_leaf': 3, 'max_depth': 50}. Best is trial 1 with value: 0.21788616982679657.\n",
      "[I 2024-09-12 00:11:13,112] Trial 15 finished with value: 0.5560126171247164 and parameters: {'n_estimators': 700, 'min_samples_leaf': 1, 'max_depth': 4}. Best is trial 1 with value: 0.21788616982679657.\n",
      "[I 2024-09-12 00:11:43,522] Trial 16 finished with value: 0.25861592410924966 and parameters: {'n_estimators': 20, 'min_samples_leaf': 13, 'max_depth': 35}. Best is trial 1 with value: 0.21788616982679657.\n",
      "[I 2024-09-12 00:14:46,635] Trial 17 finished with value: 0.45048438531735513 and parameters: {'n_estimators': 300, 'min_samples_leaf': 4, 'max_depth': 7}. Best is trial 1 with value: 0.21788616982679657.\n",
      "[I 2024-09-12 00:15:58,956] Trial 18 finished with value: 0.2513378653452299 and parameters: {'n_estimators': 50, 'min_samples_leaf': 8, 'max_depth': 20}. Best is trial 1 with value: 0.21788616982679657.\n",
      "[I 2024-09-12 00:17:26,117] Trial 19 finished with value: 0.3692869686115138 and parameters: {'n_estimators': 100, 'min_samples_leaf': 12, 'max_depth': 10}. Best is trial 1 with value: 0.21788616982679657.\n",
      "[I 2024-09-12 00:29:27,461] Trial 20 finished with value: 0.3269309288407146 and parameters: {'n_estimators': 700, 'min_samples_leaf': 2, 'max_depth': 12}. Best is trial 1 with value: 0.21788616982679657.\n",
      "[I 2024-09-12 00:31:13,639] Trial 21 finished with value: 0.2202457540439445 and parameters: {'n_estimators': 50, 'min_samples_leaf': 2, 'max_depth': 50}. Best is trial 1 with value: 0.21788616982679657.\n",
      "[I 2024-09-12 00:31:55,814] Trial 22 finished with value: 0.3950647042592862 and parameters: {'n_estimators': 50, 'min_samples_leaf': 2, 'max_depth': 9}. Best is trial 1 with value: 0.21788616982679657.\n",
      "[I 2024-09-12 00:32:06,018] Trial 23 finished with value: 0.6806890460642296 and parameters: {'n_estimators': 50, 'min_samples_leaf': 2, 'max_depth': 2}. Best is trial 1 with value: 0.21788616982679657.\n",
      "[I 2024-09-12 00:38:56,474] Trial 24 finished with value: 0.21829598098969613 and parameters: {'n_estimators': 200, 'min_samples_leaf': 2, 'max_depth': 50}. Best is trial 1 with value: 0.21788616982679657.\n",
      "[I 2024-09-12 00:43:37,782] Trial 25 finished with value: 0.25375847285643294 and parameters: {'n_estimators': 200, 'min_samples_leaf': 12, 'max_depth': 50}. Best is trial 1 with value: 0.21788616982679657.\n",
      "[I 2024-09-12 00:48:15,680] Trial 26 finished with value: 0.25619263749795673 and parameters: {'n_estimators': 200, 'min_samples_leaf': 13, 'max_depth': 50}. Best is trial 1 with value: 0.21788616982679657.\n",
      "[I 2024-09-12 00:54:01,662] Trial 27 finished with value: 0.22696076916226576 and parameters: {'n_estimators': 200, 'min_samples_leaf': 4, 'max_depth': 50}. Best is trial 1 with value: 0.21788616982679657.\n",
      "[I 2024-09-12 00:54:55,941] Trial 28 finished with value: 0.6170816116323187 and parameters: {'n_estimators': 200, 'min_samples_leaf': 10, 'max_depth': 3}. Best is trial 1 with value: 0.21788616982679657.\n",
      "[I 2024-09-12 01:11:57,763] Trial 29 finished with value: 0.2453985134388851 and parameters: {'n_estimators': 700, 'min_samples_leaf': 9, 'max_depth': 40}. Best is trial 1 with value: 0.21788616982679657.\n",
      "[I 2024-09-12 01:14:28,156] Trial 30 finished with value: 0.24362184387308328 and parameters: {'n_estimators': 100, 'min_samples_leaf': 5, 'max_depth': 20}. Best is trial 1 with value: 0.21788616982679657.\n",
      "[I 2024-09-12 01:16:15,702] Trial 31 finished with value: 0.2202457540439445 and parameters: {'n_estimators': 50, 'min_samples_leaf': 2, 'max_depth': 50}. Best is trial 1 with value: 0.21788616982679657.\n",
      "[I 2024-09-12 01:22:39,911] Trial 32 finished with value: 0.22200058647493406 and parameters: {'n_estimators': 200, 'min_samples_leaf': 2, 'max_depth': 25}. Best is trial 1 with value: 0.21788616982679657.\n",
      "[I 2024-09-12 01:23:23,594] Trial 33 finished with value: 0.224008848974608 and parameters: {'n_estimators': 20, 'min_samples_leaf': 2, 'max_depth': 50}. Best is trial 1 with value: 0.21788616982679657.\n",
      "[I 2024-09-12 01:26:56,310] Trial 34 finished with value: 0.42258679032080604 and parameters: {'n_estimators': 300, 'min_samples_leaf': 3, 'max_depth': 8}. Best is trial 1 with value: 0.21788616982679657.\n",
      "[I 2024-09-12 01:30:33,979] Trial 35 finished with value: 0.5110568561002503 and parameters: {'n_estimators': 500, 'min_samples_leaf': 14, 'max_depth': 5}. Best is trial 1 with value: 0.21788616982679657.\n",
      "[I 2024-09-12 01:39:19,246] Trial 36 finished with value: 0.48101987539490654 and parameters: {'n_estimators': 1000, 'min_samples_leaf': 6, 'max_depth': 6}. Best is trial 1 with value: 0.21788616982679657.\n",
      "[I 2024-09-12 01:41:43,599] Trial 37 finished with value: 0.25150830119764395 and parameters: {'n_estimators': 100, 'min_samples_leaf': 11, 'max_depth': 50}. Best is trial 1 with value: 0.21788616982679657.\n",
      "[I 2024-09-12 01:52:51,954] Trial 38 finished with value: 0.3464360804771275 and parameters: {'n_estimators': 700, 'min_samples_leaf': 2, 'max_depth': 11}. Best is trial 1 with value: 0.21788616982679657.\n",
      "[I 2024-09-12 02:09:48,065] Trial 39 finished with value: 0.32783126278578517 and parameters: {'n_estimators': 1000, 'min_samples_leaf': 8, 'max_depth': 12}. Best is trial 1 with value: 0.21788616982679657.\n",
      "[I 2024-09-12 02:10:14,340] Trial 40 finished with value: 0.2856548746701225 and parameters: {'n_estimators': 20, 'min_samples_leaf': 7, 'max_depth': 15}. Best is trial 1 with value: 0.21788616982679657.\n",
      "[I 2024-09-12 02:12:01,092] Trial 41 finished with value: 0.2202457540439445 and parameters: {'n_estimators': 50, 'min_samples_leaf': 2, 'max_depth': 50}. Best is trial 1 with value: 0.21788616982679657.\n",
      "[I 2024-09-12 02:13:47,595] Trial 42 finished with value: 0.2202457540439445 and parameters: {'n_estimators': 50, 'min_samples_leaf': 2, 'max_depth': 50}. Best is trial 1 with value: 0.21788616982679657.\n",
      "[I 2024-09-12 02:14:56,951] Trial 43 finished with value: 0.2613101032356794 and parameters: {'n_estimators': 50, 'min_samples_leaf': 15, 'max_depth': 30}. Best is trial 1 with value: 0.21788616982679657.\n",
      "[I 2024-09-12 02:15:15,065] Trial 44 finished with value: 0.5555907606412965 and parameters: {'n_estimators': 50, 'min_samples_leaf': 2, 'max_depth': 4}. Best is trial 1 with value: 0.21788616982679657.\n",
      "[I 2024-09-12 02:28:53,584] Trial 45 finished with value: 0.23109694259853794 and parameters: {'n_estimators': 500, 'min_samples_leaf': 5, 'max_depth': 35}. Best is trial 1 with value: 0.21788616982679657.\n",
      "[I 2024-09-12 02:33:48,187] Trial 46 finished with value: 0.24547965242156736 and parameters: {'n_estimators': 200, 'min_samples_leaf': 9, 'max_depth': 50}. Best is trial 1 with value: 0.21788616982679657.\n",
      "[I 2024-09-12 02:36:54,799] Trial 47 finished with value: 0.45049219161153414 and parameters: {'n_estimators': 300, 'min_samples_leaf': 1, 'max_depth': 7}. Best is trial 1 with value: 0.21788616982679657.\n",
      "[I 2024-09-12 02:47:04,210] Trial 48 finished with value: 0.36872586517560124 and parameters: {'n_estimators': 700, 'min_samples_leaf': 2, 'max_depth': 10}. Best is trial 1 with value: 0.21788616982679657.\n",
      "[I 2024-09-12 02:47:40,593] Trial 49 finished with value: 0.6805962476193377 and parameters: {'n_estimators': 200, 'min_samples_leaf': 2, 'max_depth': 2}. Best is trial 1 with value: 0.21788616982679657.\n"
     ]
    }
   ],
   "source": [
    "# cоздаем объект исследования\n",
    "\n",
    "stud_cv = optuna.create_study(direction=\"minimize\")\n",
    "\n",
    "\n",
    "# ищем лучшую комбинацию гиперпараметров\n",
    "stud_cv.optimize(opt_Ext_cv, n_trials=50)\n",
    "\n",
    "# # Производим сериализацию и записываем результат в файл формата pkl\n",
    "with open(r'web\\app\\models\\stud_cv.pkl', 'wb') as output:\n",
    "    pickle.dump(stud_cv, output)"
   ]
  },
  {
   "cell_type": "code",
   "execution_count": 38,
   "metadata": {},
   "outputs": [
    {
     "name": "stdout",
     "output_type": "stream",
     "text": [
      "mean_absolute_percentage_error  0.23711790276206343\n",
      "mean_absolute_error  67049.50671872417\n",
      "r2_score  0.8205364120404353\n"
     ]
    },
    {
     "data": {
      "application/vnd.plotly.v1+json": {
       "config": {
        "plotlyServerURL": "https://plot.ly"
       },
       "data": [
        {
         "alignmentgroup": "True",
         "hovertemplate": "variable=Importance<br>index=%{x}<br>value=%{y}<extra></extra>",
         "legendgroup": "Importance",
         "marker": {
          "color": "#636efa",
          "pattern": {
           "shape": ""
          }
         },
         "name": "Importance",
         "offsetgroup": "Importance",
         "orientation": "v",
         "showlegend": true,
         "textposition": "auto",
         "texttemplate": "%{y}",
         "type": "bar",
         "x": [
          "baths",
          "distance_million",
          "HDI (2021)",
          "sqft",
          "lotsize",
          "distance_capital",
          "Year_built",
          "school_rating_mean",
          "school_distance_mean",
          "claster",
          "PublicSchoolOverallRanking",
          "beds",
          "Crime Rate",
          "city_is_big",
          "condo",
          "number_school",
          "pool",
          "Single Family Home",
          "firepl",
          "Remodeled",
          "Garage",
          "multi_level",
          "forced_air_heating",
          "central_heating",
          "cool_bool",
          "3_level",
          "city_is_large",
          "Townhouse",
          "heat_bool",
          "electric_heating",
          "Carport",
          "multi_family",
          "pump_heating",
          "city_is_capital",
          "1_level",
          "city_is_million",
          "2_level",
          "foreclosure",
          "gas_heating",
          "air_conditioner",
          "Farms/Ranches",
          "4_level",
          "new",
          "Parking_lot",
          "ceiling_fan",
          "auction"
         ],
         "xaxis": "x",
         "y": [
          0.166,
          0.163,
          0.142,
          0.089,
          0.089,
          0.072,
          0.057,
          0.051,
          0.03,
          0.02,
          0.017,
          0.012,
          0.011,
          0.01,
          0.01,
          0.006,
          0.004,
          0.004,
          0.004,
          0.004,
          0.004,
          0.003,
          0.003,
          0.002,
          0.002,
          0.002,
          0.002,
          0.002,
          0.002,
          0.001,
          0.001,
          0.001,
          0.001,
          0.001,
          0.001,
          0.001,
          0.001,
          0.001,
          0.001,
          0.001,
          0.001,
          0,
          0,
          0,
          0,
          0
         ],
         "yaxis": "y"
        }
       ],
       "layout": {
        "barmode": "relative",
        "legend": {
         "title": {
          "text": "variable"
         },
         "tracegroupgap": 0
        },
        "margin": {
         "t": 60
        },
        "template": {
         "data": {
          "bar": [
           {
            "error_x": {
             "color": "#2a3f5f"
            },
            "error_y": {
             "color": "#2a3f5f"
            },
            "marker": {
             "line": {
              "color": "#E5ECF6",
              "width": 0.5
             },
             "pattern": {
              "fillmode": "overlay",
              "size": 10,
              "solidity": 0.2
             }
            },
            "type": "bar"
           }
          ],
          "barpolar": [
           {
            "marker": {
             "line": {
              "color": "#E5ECF6",
              "width": 0.5
             },
             "pattern": {
              "fillmode": "overlay",
              "size": 10,
              "solidity": 0.2
             }
            },
            "type": "barpolar"
           }
          ],
          "carpet": [
           {
            "aaxis": {
             "endlinecolor": "#2a3f5f",
             "gridcolor": "white",
             "linecolor": "white",
             "minorgridcolor": "white",
             "startlinecolor": "#2a3f5f"
            },
            "baxis": {
             "endlinecolor": "#2a3f5f",
             "gridcolor": "white",
             "linecolor": "white",
             "minorgridcolor": "white",
             "startlinecolor": "#2a3f5f"
            },
            "type": "carpet"
           }
          ],
          "choropleth": [
           {
            "colorbar": {
             "outlinewidth": 0,
             "ticks": ""
            },
            "type": "choropleth"
           }
          ],
          "contour": [
           {
            "colorbar": {
             "outlinewidth": 0,
             "ticks": ""
            },
            "colorscale": [
             [
              0,
              "#0d0887"
             ],
             [
              0.1111111111111111,
              "#46039f"
             ],
             [
              0.2222222222222222,
              "#7201a8"
             ],
             [
              0.3333333333333333,
              "#9c179e"
             ],
             [
              0.4444444444444444,
              "#bd3786"
             ],
             [
              0.5555555555555556,
              "#d8576b"
             ],
             [
              0.6666666666666666,
              "#ed7953"
             ],
             [
              0.7777777777777778,
              "#fb9f3a"
             ],
             [
              0.8888888888888888,
              "#fdca26"
             ],
             [
              1,
              "#f0f921"
             ]
            ],
            "type": "contour"
           }
          ],
          "contourcarpet": [
           {
            "colorbar": {
             "outlinewidth": 0,
             "ticks": ""
            },
            "type": "contourcarpet"
           }
          ],
          "heatmap": [
           {
            "colorbar": {
             "outlinewidth": 0,
             "ticks": ""
            },
            "colorscale": [
             [
              0,
              "#0d0887"
             ],
             [
              0.1111111111111111,
              "#46039f"
             ],
             [
              0.2222222222222222,
              "#7201a8"
             ],
             [
              0.3333333333333333,
              "#9c179e"
             ],
             [
              0.4444444444444444,
              "#bd3786"
             ],
             [
              0.5555555555555556,
              "#d8576b"
             ],
             [
              0.6666666666666666,
              "#ed7953"
             ],
             [
              0.7777777777777778,
              "#fb9f3a"
             ],
             [
              0.8888888888888888,
              "#fdca26"
             ],
             [
              1,
              "#f0f921"
             ]
            ],
            "type": "heatmap"
           }
          ],
          "heatmapgl": [
           {
            "colorbar": {
             "outlinewidth": 0,
             "ticks": ""
            },
            "colorscale": [
             [
              0,
              "#0d0887"
             ],
             [
              0.1111111111111111,
              "#46039f"
             ],
             [
              0.2222222222222222,
              "#7201a8"
             ],
             [
              0.3333333333333333,
              "#9c179e"
             ],
             [
              0.4444444444444444,
              "#bd3786"
             ],
             [
              0.5555555555555556,
              "#d8576b"
             ],
             [
              0.6666666666666666,
              "#ed7953"
             ],
             [
              0.7777777777777778,
              "#fb9f3a"
             ],
             [
              0.8888888888888888,
              "#fdca26"
             ],
             [
              1,
              "#f0f921"
             ]
            ],
            "type": "heatmapgl"
           }
          ],
          "histogram": [
           {
            "marker": {
             "pattern": {
              "fillmode": "overlay",
              "size": 10,
              "solidity": 0.2
             }
            },
            "type": "histogram"
           }
          ],
          "histogram2d": [
           {
            "colorbar": {
             "outlinewidth": 0,
             "ticks": ""
            },
            "colorscale": [
             [
              0,
              "#0d0887"
             ],
             [
              0.1111111111111111,
              "#46039f"
             ],
             [
              0.2222222222222222,
              "#7201a8"
             ],
             [
              0.3333333333333333,
              "#9c179e"
             ],
             [
              0.4444444444444444,
              "#bd3786"
             ],
             [
              0.5555555555555556,
              "#d8576b"
             ],
             [
              0.6666666666666666,
              "#ed7953"
             ],
             [
              0.7777777777777778,
              "#fb9f3a"
             ],
             [
              0.8888888888888888,
              "#fdca26"
             ],
             [
              1,
              "#f0f921"
             ]
            ],
            "type": "histogram2d"
           }
          ],
          "histogram2dcontour": [
           {
            "colorbar": {
             "outlinewidth": 0,
             "ticks": ""
            },
            "colorscale": [
             [
              0,
              "#0d0887"
             ],
             [
              0.1111111111111111,
              "#46039f"
             ],
             [
              0.2222222222222222,
              "#7201a8"
             ],
             [
              0.3333333333333333,
              "#9c179e"
             ],
             [
              0.4444444444444444,
              "#bd3786"
             ],
             [
              0.5555555555555556,
              "#d8576b"
             ],
             [
              0.6666666666666666,
              "#ed7953"
             ],
             [
              0.7777777777777778,
              "#fb9f3a"
             ],
             [
              0.8888888888888888,
              "#fdca26"
             ],
             [
              1,
              "#f0f921"
             ]
            ],
            "type": "histogram2dcontour"
           }
          ],
          "mesh3d": [
           {
            "colorbar": {
             "outlinewidth": 0,
             "ticks": ""
            },
            "type": "mesh3d"
           }
          ],
          "parcoords": [
           {
            "line": {
             "colorbar": {
              "outlinewidth": 0,
              "ticks": ""
             }
            },
            "type": "parcoords"
           }
          ],
          "pie": [
           {
            "automargin": true,
            "type": "pie"
           }
          ],
          "scatter": [
           {
            "fillpattern": {
             "fillmode": "overlay",
             "size": 10,
             "solidity": 0.2
            },
            "type": "scatter"
           }
          ],
          "scatter3d": [
           {
            "line": {
             "colorbar": {
              "outlinewidth": 0,
              "ticks": ""
             }
            },
            "marker": {
             "colorbar": {
              "outlinewidth": 0,
              "ticks": ""
             }
            },
            "type": "scatter3d"
           }
          ],
          "scattercarpet": [
           {
            "marker": {
             "colorbar": {
              "outlinewidth": 0,
              "ticks": ""
             }
            },
            "type": "scattercarpet"
           }
          ],
          "scattergeo": [
           {
            "marker": {
             "colorbar": {
              "outlinewidth": 0,
              "ticks": ""
             }
            },
            "type": "scattergeo"
           }
          ],
          "scattergl": [
           {
            "marker": {
             "colorbar": {
              "outlinewidth": 0,
              "ticks": ""
             }
            },
            "type": "scattergl"
           }
          ],
          "scattermapbox": [
           {
            "marker": {
             "colorbar": {
              "outlinewidth": 0,
              "ticks": ""
             }
            },
            "type": "scattermapbox"
           }
          ],
          "scatterpolar": [
           {
            "marker": {
             "colorbar": {
              "outlinewidth": 0,
              "ticks": ""
             }
            },
            "type": "scatterpolar"
           }
          ],
          "scatterpolargl": [
           {
            "marker": {
             "colorbar": {
              "outlinewidth": 0,
              "ticks": ""
             }
            },
            "type": "scatterpolargl"
           }
          ],
          "scatterternary": [
           {
            "marker": {
             "colorbar": {
              "outlinewidth": 0,
              "ticks": ""
             }
            },
            "type": "scatterternary"
           }
          ],
          "surface": [
           {
            "colorbar": {
             "outlinewidth": 0,
             "ticks": ""
            },
            "colorscale": [
             [
              0,
              "#0d0887"
             ],
             [
              0.1111111111111111,
              "#46039f"
             ],
             [
              0.2222222222222222,
              "#7201a8"
             ],
             [
              0.3333333333333333,
              "#9c179e"
             ],
             [
              0.4444444444444444,
              "#bd3786"
             ],
             [
              0.5555555555555556,
              "#d8576b"
             ],
             [
              0.6666666666666666,
              "#ed7953"
             ],
             [
              0.7777777777777778,
              "#fb9f3a"
             ],
             [
              0.8888888888888888,
              "#fdca26"
             ],
             [
              1,
              "#f0f921"
             ]
            ],
            "type": "surface"
           }
          ],
          "table": [
           {
            "cells": {
             "fill": {
              "color": "#EBF0F8"
             },
             "line": {
              "color": "white"
             }
            },
            "header": {
             "fill": {
              "color": "#C8D4E3"
             },
             "line": {
              "color": "white"
             }
            },
            "type": "table"
           }
          ]
         },
         "layout": {
          "annotationdefaults": {
           "arrowcolor": "#2a3f5f",
           "arrowhead": 0,
           "arrowwidth": 1
          },
          "autotypenumbers": "strict",
          "coloraxis": {
           "colorbar": {
            "outlinewidth": 0,
            "ticks": ""
           }
          },
          "colorscale": {
           "diverging": [
            [
             0,
             "#8e0152"
            ],
            [
             0.1,
             "#c51b7d"
            ],
            [
             0.2,
             "#de77ae"
            ],
            [
             0.3,
             "#f1b6da"
            ],
            [
             0.4,
             "#fde0ef"
            ],
            [
             0.5,
             "#f7f7f7"
            ],
            [
             0.6,
             "#e6f5d0"
            ],
            [
             0.7,
             "#b8e186"
            ],
            [
             0.8,
             "#7fbc41"
            ],
            [
             0.9,
             "#4d9221"
            ],
            [
             1,
             "#276419"
            ]
           ],
           "sequential": [
            [
             0,
             "#0d0887"
            ],
            [
             0.1111111111111111,
             "#46039f"
            ],
            [
             0.2222222222222222,
             "#7201a8"
            ],
            [
             0.3333333333333333,
             "#9c179e"
            ],
            [
             0.4444444444444444,
             "#bd3786"
            ],
            [
             0.5555555555555556,
             "#d8576b"
            ],
            [
             0.6666666666666666,
             "#ed7953"
            ],
            [
             0.7777777777777778,
             "#fb9f3a"
            ],
            [
             0.8888888888888888,
             "#fdca26"
            ],
            [
             1,
             "#f0f921"
            ]
           ],
           "sequentialminus": [
            [
             0,
             "#0d0887"
            ],
            [
             0.1111111111111111,
             "#46039f"
            ],
            [
             0.2222222222222222,
             "#7201a8"
            ],
            [
             0.3333333333333333,
             "#9c179e"
            ],
            [
             0.4444444444444444,
             "#bd3786"
            ],
            [
             0.5555555555555556,
             "#d8576b"
            ],
            [
             0.6666666666666666,
             "#ed7953"
            ],
            [
             0.7777777777777778,
             "#fb9f3a"
            ],
            [
             0.8888888888888888,
             "#fdca26"
            ],
            [
             1,
             "#f0f921"
            ]
           ]
          },
          "colorway": [
           "#636efa",
           "#EF553B",
           "#00cc96",
           "#ab63fa",
           "#FFA15A",
           "#19d3f3",
           "#FF6692",
           "#B6E880",
           "#FF97FF",
           "#FECB52"
          ],
          "font": {
           "color": "#2a3f5f"
          },
          "geo": {
           "bgcolor": "white",
           "lakecolor": "white",
           "landcolor": "#E5ECF6",
           "showlakes": true,
           "showland": true,
           "subunitcolor": "white"
          },
          "hoverlabel": {
           "align": "left"
          },
          "hovermode": "closest",
          "mapbox": {
           "style": "light"
          },
          "paper_bgcolor": "white",
          "plot_bgcolor": "#E5ECF6",
          "polar": {
           "angularaxis": {
            "gridcolor": "white",
            "linecolor": "white",
            "ticks": ""
           },
           "bgcolor": "#E5ECF6",
           "radialaxis": {
            "gridcolor": "white",
            "linecolor": "white",
            "ticks": ""
           }
          },
          "scene": {
           "xaxis": {
            "backgroundcolor": "#E5ECF6",
            "gridcolor": "white",
            "gridwidth": 2,
            "linecolor": "white",
            "showbackground": true,
            "ticks": "",
            "zerolinecolor": "white"
           },
           "yaxis": {
            "backgroundcolor": "#E5ECF6",
            "gridcolor": "white",
            "gridwidth": 2,
            "linecolor": "white",
            "showbackground": true,
            "ticks": "",
            "zerolinecolor": "white"
           },
           "zaxis": {
            "backgroundcolor": "#E5ECF6",
            "gridcolor": "white",
            "gridwidth": 2,
            "linecolor": "white",
            "showbackground": true,
            "ticks": "",
            "zerolinecolor": "white"
           }
          },
          "shapedefaults": {
           "line": {
            "color": "#2a3f5f"
           }
          },
          "ternary": {
           "aaxis": {
            "gridcolor": "white",
            "linecolor": "white",
            "ticks": ""
           },
           "baxis": {
            "gridcolor": "white",
            "linecolor": "white",
            "ticks": ""
           },
           "bgcolor": "#E5ECF6",
           "caxis": {
            "gridcolor": "white",
            "linecolor": "white",
            "ticks": ""
           }
          },
          "title": {
           "x": 0.05
          },
          "xaxis": {
           "automargin": true,
           "gridcolor": "white",
           "linecolor": "white",
           "ticks": "",
           "title": {
            "standoff": 15
           },
           "zerolinecolor": "white",
           "zerolinewidth": 2
          },
          "yaxis": {
           "automargin": true,
           "gridcolor": "white",
           "linecolor": "white",
           "ticks": "",
           "title": {
            "standoff": 15
           },
           "zerolinecolor": "white",
           "zerolinewidth": 2
          }
         }
        },
        "xaxis": {
         "anchor": "y",
         "domain": [
          0,
          1
         ],
         "title": {
          "text": "index"
         }
        },
        "yaxis": {
         "anchor": "x",
         "domain": [
          0,
          1
         ],
         "title": {
          "text": "value"
         }
        }
       }
      }
     },
     "metadata": {},
     "output_type": "display_data"
    }
   ],
   "source": [
    "# # рассчитаем точность для тестовой выборки\n",
    "best_model_cv = RandomForestRegressor(random_state=random_state,\n",
    "                                    n_jobs=n_jobs,\n",
    "                                    n_estimators=stud_cv.best_params['n_estimators'],\n",
    "                                    min_samples_leaf=stud_cv.best_params['min_samples_leaf'],\n",
    "                                    max_depth=stud_cv.best_params['max_depth'],\n",
    "                                    )\n",
    "\n",
    "\n",
    "best_model_cv.fit(X_train,y_train)\n",
    "\n",
    "# # Производим сериализацию и записываем результат в файл формата pkl\n",
    "\n",
    "# with open(r'web\\app\\models\\best_model_cv.pkl', 'wb') as output:\n",
    "#     pickle.dump(best_model_cv, output)\n",
    "\n",
    "predict = best_model_cv.predict(X_test)\n",
    "print('mean_absolute_percentage_error ',mean_absolute_percentage_error(y_test,predict))\n",
    "print('mean_absolute_error ',mean_absolute_error(y_test,predict))\n",
    "print('r2_score ',r2_score(y_test,predict))\n",
    "# print('mean_absolute_error_$' ,trans_target.inverse_transform(np.array(mean_absolute_error(y_test,predict)).reshape(-1, 1)))\n",
    "\n",
    "\n",
    "feat_importances = pd.DataFrame(best_model_cv.feature_importances_, index=X_train.columns, columns=[\"Importance\"]).sort_values('Importance',ascending=False)\n",
    "px.bar(feat_importances.round(3),text_auto=True)\n"
   ]
  }
 ],
 "metadata": {
  "kernelspec": {
   "display_name": "base",
   "language": "python",
   "name": "python3"
  },
  "language_info": {
   "codemirror_mode": {
    "name": "ipython",
    "version": 3
   },
   "file_extension": ".py",
   "mimetype": "text/x-python",
   "name": "python",
   "nbconvert_exporter": "python",
   "pygments_lexer": "ipython3",
   "version": "3.8.19"
  }
 },
 "nbformat": 4,
 "nbformat_minor": 2
}
