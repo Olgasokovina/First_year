{
 "cells": [
  {
   "cell_type": "code",
   "execution_count": 1,
   "metadata": {},
   "outputs": [],
   "source": [
    "import pandas as pd\n",
    "pd.options.mode.copy_on_write = True\n",
    "import numpy as np\n",
    "import ast\n",
    "\n",
    "from uszipcode import SearchEngine\n",
    "\n",
    "\n",
    "from func import *"
   ]
  },
  {
   "cell_type": "code",
   "execution_count": 2,
   "metadata": {},
   "outputs": [],
   "source": [
    "df = pd.read_csv('data/data.csv',usecols=['state','schools'])\n",
    "df['schools_ast'] = df['schools'].apply(lambda x: ast.literal_eval(x)[0])\n",
    "df['school_rating'] = df['schools_ast'].apply(lambda x: x['rating'])"
   ]
  },
  {
   "cell_type": "code",
   "execution_count": 3,
   "metadata": {},
   "outputs": [
    {
     "name": "stdout",
     "output_type": "stream",
     "text": [
      "{'', '5/10', '10/10', 'None/10', 'NR', '8', '6/10', '2/10', '10', '7/10', '2', '4/10', 'NA', '1/10', '9', '4', '8/10', '5', '3', '1', '9/10', '7', '6', '3/10'}\n"
     ]
    }
   ],
   "source": [
    "rating_invalid_search = []\n",
    "df['school_rating'].apply(lambda x: rating_invalid_search.extend(x))\n",
    "print(set(rating_invalid_search))"
   ]
  },
  {
   "cell_type": "code",
   "execution_count": 4,
   "metadata": {},
   "outputs": [],
   "source": [
    "def school_rating_mean_1(x):\n",
    "    import statistics\n",
    "    lst = list(x)\n",
    "\n",
    "    for i in range(len(lst)):\n",
    "        if '/' in lst[i]:\n",
    "            lst[i] = str(lst[i]).split(sep='/')[0]\n",
    "        lst[i] = lst[i].lower().replace('none','').replace('[','').replace(']','').replace(\",\",'').replace('nr','').replace('na','').replace(\"'\",'')\n",
    "\n",
    "\n",
    "    lst = list(filter(None, lst))\n",
    "    print(lst)\n",
    "\n",
    "    if len(lst)==0:\n",
    "        return None\n",
    "    else:\n",
    "        for i in range(len(lst)):\n",
    "            lst[i] = int(lst[i])\n",
    "        return round(statistics.mean(lst),1)"
   ]
  },
  {
   "cell_type": "code",
   "execution_count": 5,
   "metadata": {},
   "outputs": [],
   "source": [
    "df['school_rating_mean'] = df['school_rating'].apply(school_rating_mean)"
   ]
  },
  {
   "cell_type": "code",
   "execution_count": 6,
   "metadata": {},
   "outputs": [
    {
     "data": {
      "text/plain": [
       "school_rating_mean\n",
       "6.0    22903\n",
       "4.0    19988\n",
       "5.0    19672\n",
       "3.0    17829\n",
       "6.3    15772\n",
       "       ...  \n",
       "1.4       12\n",
       "9.6       11\n",
       "6.9        8\n",
       "6.1        4\n",
       "5.9        2\n",
       "Name: count, Length: 87, dtype: int64"
      ]
     },
     "execution_count": 6,
     "metadata": {},
     "output_type": "execute_result"
    }
   ],
   "source": [
    "df['school_rating_mean'].value_counts()"
   ]
  },
  {
   "cell_type": "code",
   "execution_count": null,
   "metadata": {},
   "outputs": [],
   "source": []
  }
 ],
 "metadata": {
  "kernelspec": {
   "display_name": "base",
   "language": "python",
   "name": "python3"
  },
  "language_info": {
   "codemirror_mode": {
    "name": "ipython",
    "version": 3
   },
   "file_extension": ".py",
   "mimetype": "text/x-python",
   "name": "python",
   "nbconvert_exporter": "python",
   "pygments_lexer": "ipython3",
   "version": "3.11.5"
  }
 },
 "nbformat": 4,
 "nbformat_minor": 2
}
