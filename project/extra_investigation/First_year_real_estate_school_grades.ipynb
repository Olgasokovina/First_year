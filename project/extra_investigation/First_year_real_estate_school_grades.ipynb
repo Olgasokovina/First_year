{
 "cells": [
  {
   "cell_type": "markdown",
   "metadata": {},
   "source": [
    "Изученик данных по  shcool grades"
   ]
  },
  {
   "cell_type": "code",
   "execution_count": 5,
   "metadata": {},
   "outputs": [],
   "source": [
    "import pandas as pd\n",
    "\n",
    "pd.options.mode.copy_on_write = True\n",
    "import ast\n",
    "\n",
    "from func import *"
   ]
  },
  {
   "cell_type": "code",
   "execution_count": null,
   "metadata": {},
   "outputs": [],
   "source": [
    "df = pd.read_csv('data/real estate.csv',usecols=['schools'])\n",
    "df.head(3)"
   ]
  },
  {
   "cell_type": "code",
   "execution_count": 7,
   "metadata": {},
   "outputs": [],
   "source": [
    "df['schools_ast'] = df['schools'].apply(lambda x: ast.literal_eval(x)[0])\n",
    "df['school_data']  = df['schools_ast'].apply(lambda x: x['data'])\n",
    "df['school_grades'] = df['school_data'].apply(lambda x: x['Grades'])"
   ]
  },
  {
   "cell_type": "code",
   "execution_count": null,
   "metadata": {},
   "outputs": [],
   "source": [
    "df.loc[:,'school_grades']"
   ]
  },
  {
   "cell_type": "code",
   "execution_count": null,
   "metadata": {},
   "outputs": [],
   "source": [
    "temp = []\n",
    "df['school_grades'].apply(lambda x: temp.extend(x))\n",
    "set(temp)"
   ]
  },
  {
   "cell_type": "markdown",
   "metadata": {},
   "source": [
    "'1 to 3',\n"
   ]
  },
  {
   "cell_type": "code",
   "execution_count": 12,
   "metadata": {},
   "outputs": [],
   "source": [
    "def reduce(x):\n",
    "    print(x)\n",
    "    if  x is None:\n",
    "        return None\n",
    "    change1 = ['1 to 2', '1 to 3', '1 to 4', '1 to 5', '1 to 6', '1 to 7', '1 to 8','1 to 10', '10 to 12',]\n",
    "    change2 = ['1-2',    '1-3',    '1-4',    '1-5',    '1-6',    '1-7',    '1-8',   '1-10',    '10-12']\n",
    "    x = str(x)\n",
    "\n",
    "    for n in range(len(change1)):\n",
    "        print(x ,'до')\n",
    "        x = x.replace(change1[n],change2[n])\n",
    "        print(x,'после')\n",
    "\n",
    "\n",
    "\n",
    "    return x"
   ]
  },
  {
   "cell_type": "code",
   "execution_count": null,
   "metadata": {},
   "outputs": [],
   "source": [
    "df['school_grades'] = df['school_grades'].apply(lambda x: reduce(x))"
   ]
  },
  {
   "cell_type": "code",
   "execution_count": null,
   "metadata": {},
   "outputs": [],
   "source": [
    "temp = []\n",
    "df['school_grades'].apply(lambda x: temp.extend(str(x).lower().replace('[','').replace(']','').split(sep=', ')))\n",
    "set(temp)"
   ]
  },
  {
   "cell_type": "markdown",
   "metadata": {},
   "source": [
    "В американских школах:  \n",
    "К - десткий сад как правило при школе  \n",
    "1-5 начальная школа  \n",
    "6-8 средняя школа  \n",
    "9-12 старшая школа  \n",
    "\n",
    "И мы видим различные вариации классов в школах. "
   ]
  }
 ],
 "metadata": {
  "kernelspec": {
   "display_name": "base",
   "language": "python",
   "name": "python3"
  },
  "language_info": {
   "codemirror_mode": {
    "name": "ipython",
    "version": 3
   },
   "file_extension": ".py",
   "mimetype": "text/x-python",
   "name": "python",
   "nbconvert_exporter": "python",
   "pygments_lexer": "ipython3",
   "version": "3.8.19"
  }
 },
 "nbformat": 4,
 "nbformat_minor": 2
}
