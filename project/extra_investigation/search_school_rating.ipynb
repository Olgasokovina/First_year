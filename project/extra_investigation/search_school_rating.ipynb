{
 "cells": [
  {
   "cell_type": "code",
   "execution_count": 43,
   "metadata": {},
   "outputs": [],
   "source": [
    "import pandas as pd\n",
    "pd.options.mode.copy_on_write = True\n",
    "import numpy as np\n",
    "import ast\n",
    "import  pickle\n",
    "from uszipcode import SearchEngine\n"
   ]
  },
  {
   "cell_type": "code",
   "execution_count": 2,
   "metadata": {},
   "outputs": [
    {
     "data": {
      "text/html": [
       "<div>\n",
       "<style scoped>\n",
       "    .dataframe tbody tr th:only-of-type {\n",
       "        vertical-align: middle;\n",
       "    }\n",
       "\n",
       "    .dataframe tbody tr th {\n",
       "        vertical-align: top;\n",
       "    }\n",
       "\n",
       "    .dataframe thead th {\n",
       "        text-align: right;\n",
       "    }\n",
       "</style>\n",
       "<table border=\"1\" class=\"dataframe\">\n",
       "  <thead>\n",
       "    <tr style=\"text-align: right;\">\n",
       "      <th></th>\n",
       "      <th>schools</th>\n",
       "      <th>state</th>\n",
       "    </tr>\n",
       "  </thead>\n",
       "  <tbody>\n",
       "    <tr>\n",
       "      <th>0</th>\n",
       "      <td>[{'rating': ['4', '4', '7', 'NR', '4', '7', 'N...</td>\n",
       "      <td>NC</td>\n",
       "    </tr>\n",
       "    <tr>\n",
       "      <th>1</th>\n",
       "      <td>[{'rating': ['4/10', 'None/10', '4/10'], 'data...</td>\n",
       "      <td>WA</td>\n",
       "    </tr>\n",
       "    <tr>\n",
       "      <th>2</th>\n",
       "      <td>[{'rating': ['8/10', '4/10', '8/10'], 'data': ...</td>\n",
       "      <td>CA</td>\n",
       "    </tr>\n",
       "  </tbody>\n",
       "</table>\n",
       "</div>"
      ],
      "text/plain": [
       "                                             schools state\n",
       "0  [{'rating': ['4', '4', '7', 'NR', '4', '7', 'N...    NC\n",
       "1  [{'rating': ['4/10', 'None/10', '4/10'], 'data...    WA\n",
       "2  [{'rating': ['8/10', '4/10', '8/10'], 'data': ...    CA"
      ]
     },
     "execution_count": 2,
     "metadata": {},
     "output_type": "execute_result"
    }
   ],
   "source": [
    "df = pd.read_csv('data/data.csv',\n",
    "                 usecols=['state','schools'])\n",
    "df.head(3)"
   ]
  },
  {
   "cell_type": "code",
   "execution_count": 3,
   "metadata": {},
   "outputs": [],
   "source": [
    "df['schools_ast'] = df['schools'].apply(lambda x: ast.literal_eval(x)[0])"
   ]
  },
  {
   "cell_type": "code",
   "execution_count": 4,
   "metadata": {},
   "outputs": [
    {
     "name": "stdout",
     "output_type": "stream",
     "text": [
      "{'AR', 'UT', 'NM', 'IN', 'RI', 'NV', 'TX', 'IA', 'AZ', 'MO', 'VA', 'IL', 'CA', 'HI', 'MN', 'LA', 'TN', 'KY', 'NE', 'OH', 'WA', 'FL', 'CT', 'ME', 'SD', 'WY', 'OK', 'SC', 'NJ', 'CO', 'VT', 'MS', 'ID', 'NH', 'KS', 'MA', 'GA', 'MT', 'DE', 'OR', 'PA', 'NC', 'NY', 'AL', 'AK', 'ND', 'WI', 'MD', 'WV', 'DC', 'MI'}\n"
     ]
    }
   ],
   "source": [
    "url = 'https://www.bu.edu/brand/guidelines/editorial-style/us-state-abbreviations/'\n",
    "tables = pd.read_html(url)\n",
    "\n",
    "short_state_name = set(tables[0][2][1:])\n",
    "print(short_state_name)"
   ]
  },
  {
   "cell_type": "code",
   "execution_count": 5,
   "metadata": {},
   "outputs": [
    {
     "name": "stdout",
     "output_type": "stream",
     "text": [
      "3\n"
     ]
    }
   ],
   "source": [
    "df['state'] = df['state'].str.upper()\n",
    "df['state_st'] = df['state'].apply(lambda x: 0 if x in short_state_name else 1)\n",
    "print(df['state_st'].sum())\n",
    "df[df['state_st']==1]\n",
    "df = df[df['state_st']!=1]\n",
    "df = df.drop('state_st',axis=1)"
   ]
  },
  {
   "cell_type": "code",
   "execution_count": 6,
   "metadata": {},
   "outputs": [],
   "source": [
    "df['school_rating'] = df['schools_ast'].apply(lambda x: x['rating'])"
   ]
  },
  {
   "cell_type": "code",
   "execution_count": 7,
   "metadata": {},
   "outputs": [
    {
     "data": {
      "text/plain": [
       "0         [Southern Pines Elementary School, Southern Mi...\n",
       "1         [East Valley High School&Extension, Eastvalley...\n",
       "2         [Paul Revere Middle School, Brentwood Science ...\n",
       "3         [Mcculloch Intermediate School, Bradfield Elem...\n",
       "4         [Southwest Middle School, Bayside High School,...\n",
       "                                ...                        \n",
       "377180    [Air Base Elementary School, Dr Michael M. Kro...\n",
       "377181    [Hope College Prep High School, Lake View High...\n",
       "377182    [Ps 48 William Wordsworth, Jhs 8 Richard S Gro...\n",
       "377183    [Hiliard El, Forest Brook Middle, North Forest...\n",
       "377184    [Mary Lou Hartman, Woodlake Hills Middle Schoo...\n",
       "Name: school_name, Length: 377182, dtype: object"
      ]
     },
     "execution_count": 7,
     "metadata": {},
     "output_type": "execute_result"
    }
   ],
   "source": [
    "df['school_name']  = df['schools_ast'].apply(lambda x: x['name'])\n",
    "df['school_name']"
   ]
  },
  {
   "cell_type": "code",
   "execution_count": 8,
   "metadata": {},
   "outputs": [
    {
     "name": "stdout",
     "output_type": "stream",
     "text": [
      "{'', '9/10', '7/10', '4', '10/10', '8', '2', 'None/10', '3', '2/10', '4/10', '1', '7', '9', '8/10', '1/10', '10', '5', '6', 'NR', 'NA', '6/10', '3/10', '5/10'}\n"
     ]
    }
   ],
   "source": [
    "rating_invalid_search = []\n",
    "df['school_rating'].apply(lambda x: rating_invalid_search.extend(x))\n",
    "print(set(rating_invalid_search))"
   ]
  },
  {
   "cell_type": "code",
   "execution_count": 9,
   "metadata": {},
   "outputs": [
    {
     "data": {
      "text/plain": [
       "0         {'Southern Pines Elementary School': '4', 'Sou...\n",
       "1         {'East Valley High School&Extension': '4/10', ...\n",
       "2         {'Paul Revere Middle School': '8/10', 'Brentwo...\n",
       "3         {'Mcculloch Intermediate School': '9/10', 'Bra...\n",
       "4         {'Southwest Middle School': '4/10', 'Bayside H...\n",
       "                                ...                        \n",
       "377180    {'Air Base Elementary School': '10/10', 'Dr Mi...\n",
       "377181    {'Hope College Prep High School': '1/10', 'Lak...\n",
       "377182    {'Ps 48 William Wordsworth': '5/10', 'Jhs 8 Ri...\n",
       "377183    {'Hiliard El': 'NA', 'Forest Brook Middle': 'N...\n",
       "377184    {'Mary Lou Hartman': '5/10', 'Woodlake Hills M...\n",
       "Name: temp, Length: 377182, dtype: object"
      ]
     },
     "execution_count": 9,
     "metadata": {},
     "output_type": "execute_result"
    }
   ],
   "source": [
    "df['temp'] = df.apply(lambda row: dict(zip(row['school_name'],row['school_rating'])),axis=1)\n",
    "df['temp']"
   ]
  },
  {
   "cell_type": "code",
   "execution_count": 12,
   "metadata": {},
   "outputs": [],
   "source": [
    "def school_temp(x):\n",
    "    for i,j in x.items():\n",
    "        temp_school_name[i].append(j)\n",
    "    return x"
   ]
  },
  {
   "cell_type": "code",
   "execution_count": 13,
   "metadata": {},
   "outputs": [],
   "source": [
    "# short_state_name\n",
    "\n",
    "df_state_school = pd.DataFrame(columns = ['state','school_name','rating'])\n",
    "\n",
    "for state in short_state_name:\n",
    "    df_state_school = pd.DataFrame()\n",
    "    df_temp = df[df.state==state][['temp','school_name','school_rating']].copy()\n",
    "\n",
    "    school_name = []\n",
    "    df_temp['school_name'].apply(lambda x: school_name.extend(x))\n",
    "    school_name = set(school_name)\n",
    "\n",
    "    temp_school_name = {}\n",
    "    for name in school_name:\n",
    "        temp_school_name[name] = []\n",
    "\n",
    "    df_temp['temp'].apply(school_temp)\n",
    "\n",
    "    for k, v in temp_school_name.items():\n",
    "        ss = pd.DataFrame({'state':state,'school_name':k,'rating':v},columns = ['state','school_name','rating'])\n",
    "        ss.rating = ss.rating.replace({'NR':'None','NA':'None'})\n",
    "        ss.rating = ss.rating.apply(lambda x:str(x).split(sep='/')[0] if '/' in str(x) else x)\n",
    "        ss.rating = ss.rating.apply(lambda x: np.NaN if x is None or x is np.NaN or x == 'None' else int(x))\n",
    "\n",
    "        df_state_school = pd.concat([df_state_school,ss ],ignore_index=True)\n",
    "\n",
    "\n",
    "df_state_school_group = df_state_school.groupby(['state','school_name'])['rating'].agg('describe')"
   ]
  },
  {
   "cell_type": "code",
   "execution_count": null,
   "metadata": {},
   "outputs": [],
   "source": []
  }
 ],
 "metadata": {
  "kernelspec": {
   "display_name": "base",
   "language": "python",
   "name": "python3"
  },
  "language_info": {
   "codemirror_mode": {
    "name": "ipython",
    "version": 3
   },
   "file_extension": ".py",
   "mimetype": "text/x-python",
   "name": "python",
   "nbconvert_exporter": "python",
   "pygments_lexer": "ipython3",
   "version": "3.8.19"
  }
 },
 "nbformat": 4,
 "nbformat_minor": 2
}
